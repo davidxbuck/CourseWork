{
  "cells": [
    {
      "cell_type": "code",
      "execution_count": 1,
      "metadata": {
        "collapsed": true,
        "pycharm": {
          "is_executing": false
        }
      },
      "outputs": [
        {
          "data": {
            "text/plain": "[\u0027__doc__\u0027,\n \u0027__loader__\u0027,\n \u0027__name__\u0027,\n \u0027__package__\u0027,\n \u0027__spec__\u0027,\n \u0027_grouper\u0027,\n \u0027_tee\u0027,\n \u0027_tee_dataobject\u0027,\n \u0027accumulate\u0027,\n \u0027chain\u0027,\n \u0027combinations\u0027,\n \u0027combinations_with_replacement\u0027,\n \u0027compress\u0027,\n \u0027count\u0027,\n \u0027cycle\u0027,\n \u0027dropwhile\u0027,\n \u0027filterfalse\u0027,\n \u0027groupby\u0027,\n \u0027islice\u0027,\n \u0027permutations\u0027,\n \u0027product\u0027,\n \u0027repeat\u0027,\n \u0027starmap\u0027,\n \u0027takewhile\u0027,\n \u0027tee\u0027,\n \u0027zip_longest\u0027]"
          },
          "metadata": {},
          "output_type": "execute_result",
          "execution_count": 1
        }
      ],
      "source": "\nimport itertools\ndir(itertools)\n"
    },
    {
      "cell_type": "code",
      "execution_count": 2,
      "outputs": [
        {
          "name": "stdout",
          "text": [
            "0\n1\n2\n"
          ],
          "output_type": "stream"
        }
      ],
      "source": "counter \u003d itertools.count()\n\nprint(next(counter))\nprint(next(counter))\nprint(next(counter))\n# could continue forever\n",
      "metadata": {
        "pycharm": {
          "metadata": false,
          "name": "#%%\n",
          "is_executing": false
        }
      }
    },
    {
      "cell_type": "code",
      "execution_count": 4,
      "outputs": [
        {
          "data": {
            "text/plain": "[(0, 100), (1, 200), (2, 300), (3, 400)]"
          },
          "metadata": {},
          "output_type": "execute_result",
          "execution_count": 4
        }
      ],
      "source": "counter \u003d itertools.count()\ndata \u003d [100, 200, 300, 400]\n\ndaily_data \u003d zip(itertools.count(), data)\nlist(daily_data)\n\n",
      "metadata": {
        "pycharm": {
          "metadata": false,
          "name": "#%%\n",
          "is_executing": false
        }
      }
    },
    {
      "cell_type": "code",
      "execution_count": 15,
      "outputs": [
        {
          "name": "stdout",
          "text": [
            "[(5, 100), (2.5, 200), (0.0, 300), (-2.5, 400)]\n"
          ],
          "output_type": "stream"
        }
      ],
      "source": "daily_data \u003d zip(itertools.count(start\u003d5, step\u003d-2.5), data)\nprint(list(daily_data))\n",
      "metadata": {
        "pycharm": {
          "metadata": false,
          "name": "#%% # zip ends when the shortest list is exhauseted\n",
          "is_executing": false
        }
      }
    },
    {
      "cell_type": "code",
      "execution_count": 16,
      "outputs": [
        {
          "name": "stdout",
          "text": [
            "[(0, 100), (1, 200), (2, 300), (3, 400)]\n"
          ],
          "output_type": "stream"
        }
      ],
      "source": "daily_data \u003d zip(range(10), data) # range will stop when data stops\nprint(list(daily_data))\n",
      "metadata": {
        "pycharm": {
          "metadata": false,
          "name": "#%% # functionally the same as count above\n",
          "is_executing": false
        }
      }
    },
    {
      "cell_type": "code",
      "execution_count": 17,
      "outputs": [
        {
          "name": "stdout",
          "text": [
            "[(0, 100), (1, 200), (2, 300), (3, 400), (4, None), (5, None), (6, None), (7, None), (8, None), (9, None)]\n"
          ],
          "output_type": "stream"
        }
      ],
      "source": "daily_data \u003d itertools.zip_longest(range(10), data) # continues to pair after data runs out\nprint(list(daily_data))\n",
      "metadata": {
        "pycharm": {
          "metadata": false,
          "name": "#%% # functionally the same as count above\n",
          "is_executing": false
        }
      }
    },
    {
      "cell_type": "code",
      "execution_count": 20,
      "outputs": [
        {
          "name": "stdout",
          "text": [
            "1\n2\n3\n1\n2\n3\n"
          ],
          "output_type": "stream"
        }
      ],
      "source": "counter \u003d itertools.cycle([1,2,3]) # cycles around list indefinitely\nprint(next(counter))\nprint(next(counter))\nprint(next(counter))\nprint(next(counter))\nprint(next(counter))\nprint(next(counter))\n",
      "metadata": {
        "pycharm": {
          "metadata": false,
          "name": "#%%\n",
          "is_executing": false
        }
      }
    },
    {
      "cell_type": "code",
      "execution_count": 21,
      "outputs": [
        {
          "name": "stdout",
          "text": [
            "On\nOff\nOn\n"
          ],
          "output_type": "stream"
        }
      ],
      "source": "counter \u003d itertools.cycle([\u0027On\u0027, \u0027Off\u0027]) # cycles around list indefinitely\nprint(next(counter))\nprint(next(counter))\nprint(next(counter))\n",
      "metadata": {
        "pycharm": {
          "metadata": false,
          "name": "#%%\n",
          "is_executing": false
        }
      }
    },
    {
      "cell_type": "code",
      "execution_count": 23,
      "outputs": [
        {
          "name": "stdout",
          "text": [
            "2\n2\n2\n"
          ],
          "output_type": "stream"
        },
        {
          "traceback": [
            "\u001b[0;31m---------------------------------------------------------------------------\u001b[0m",
            "\u001b[0;31mStopIteration\u001b[0m                             Traceback (most recent call last)",
            "\u001b[0;32m\u003cipython-input-23-25652208f5c1\u003e\u001b[0m in \u001b[0;36m\u003cmodule\u003e\u001b[0;34m\u001b[0m\n\u001b[1;32m      3\u001b[0m \u001b[0mprint\u001b[0m\u001b[0;34m(\u001b[0m\u001b[0mnext\u001b[0m\u001b[0;34m(\u001b[0m\u001b[0mcounter\u001b[0m\u001b[0;34m)\u001b[0m\u001b[0;34m)\u001b[0m\u001b[0;34m\u001b[0m\u001b[0;34m\u001b[0m\u001b[0m\n\u001b[1;32m      4\u001b[0m \u001b[0mprint\u001b[0m\u001b[0;34m(\u001b[0m\u001b[0mnext\u001b[0m\u001b[0;34m(\u001b[0m\u001b[0mcounter\u001b[0m\u001b[0;34m)\u001b[0m\u001b[0;34m)\u001b[0m\u001b[0;34m\u001b[0m\u001b[0;34m\u001b[0m\u001b[0m\n\u001b[0;32m----\u003e 5\u001b[0;31m \u001b[0mprint\u001b[0m\u001b[0;34m(\u001b[0m\u001b[0mnext\u001b[0m\u001b[0;34m(\u001b[0m\u001b[0mcounter\u001b[0m\u001b[0;34m)\u001b[0m\u001b[0;34m)\u001b[0m\u001b[0;34m\u001b[0m\u001b[0;34m\u001b[0m\u001b[0m\n\u001b[0m\u001b[1;32m      6\u001b[0m \u001b[0mprint\u001b[0m\u001b[0;34m(\u001b[0m\u001b[0mnext\u001b[0m\u001b[0;34m(\u001b[0m\u001b[0mcounter\u001b[0m\u001b[0;34m)\u001b[0m\u001b[0;34m)\u001b[0m\u001b[0;34m\u001b[0m\u001b[0;34m\u001b[0m\u001b[0m\n\u001b[1;32m      7\u001b[0m \u001b[0mprint\u001b[0m\u001b[0;34m(\u001b[0m\u001b[0mnext\u001b[0m\u001b[0;34m(\u001b[0m\u001b[0mcounter\u001b[0m\u001b[0;34m)\u001b[0m\u001b[0;34m)\u001b[0m\u001b[0;34m\u001b[0m\u001b[0;34m\u001b[0m\u001b[0m\n",
            "\u001b[0;31mStopIteration\u001b[0m: "
          ],
          "ename": "StopIteration",
          "evalue": "",
          "output_type": "error"
        }
      ],
      "source": "counter \u003d itertools.repeat(2, times\u003d3)\nprint(next(counter))\nprint(next(counter))\nprint(next(counter))\nprint(next(counter))\nprint(next(counter))\nprint(next(counter))\n",
      "metadata": {
        "pycharm": {
          "metadata": false,
          "name": "#%%\n",
          "is_executing": false
        }
      }
    },
    {
      "cell_type": "code",
      "execution_count": 25,
      "outputs": [
        {
          "name": "stdout",
          "text": [
            "[0, 1, 4, 9, 16, 25, 36, 49, 64, 81]\n"
          ],
          "output_type": "stream"
        }
      ],
      "source": "squares \u003d map(pow, range(10), itertools.repeat(2))\nprint(list(squares))\n",
      "metadata": {
        "pycharm": {
          "metadata": false,
          "name": "#%%\n",
          "is_executing": false
        }
      }
    },
    {
      "cell_type": "code",
      "execution_count": 26,
      "outputs": [
        {
          "name": "stdout",
          "text": [
            "[0, 1, 4]\n"
          ],
          "output_type": "stream"
        }
      ],
      "source": "squares \u003d itertools.starmap(pow, [(0,2),(1,2),(2,2)]) # similar to map but works on list of tuples\nprint(list(squares))\n",
      "metadata": {
        "pycharm": {
          "metadata": false,
          "name": "#%%\n",
          "is_executing": false
        }
      }
    },
    {
      "cell_type": "code",
      "execution_count": 40,
      "outputs": [
        {
          "name": "stdout",
          "text": [
            "[(\u0027a\u0027, \u0027b\u0027), (\u0027a\u0027, \u0027c\u0027), (\u0027a\u0027, \u0027d\u0027), (\u0027b\u0027, \u0027c\u0027), (\u0027b\u0027, \u0027d\u0027), (\u0027c\u0027, \u0027d\u0027)]\n"
          ],
          "output_type": "stream"
        }
      ],
      "source": "letters \u003d [\u0027a\u0027, \u0027b\u0027, \u0027c\u0027, \u0027d\u0027]\nnumbers \u003d [0, 1, 2, 3]\nnames \u003d [\u0027Bob\u0027, \u0027Frank\u0027]\n\nresult \u003d itertools.combinations(letters, 2) # combinations assume order doesn\u0027t matter so you get (\u0027a\u0027, \u0027b\u0027) but not (\u0027b\u0027, \u0027a\u0027)\nprint(list(result))\n",
      "metadata": {
        "pycharm": {
          "metadata": false,
          "name": "#%%\n",
          "is_executing": false
        }
      }
    },
    {
      "cell_type": "code",
      "execution_count": 21,
      "outputs": [
        {
          "name": "stdout",
          "text": [
            "[(\u0027a\u0027, \u0027b\u0027), (\u0027a\u0027, \u0027c\u0027), (\u0027a\u0027, \u0027d\u0027), (\u0027b\u0027, \u0027a\u0027), (\u0027b\u0027, \u0027c\u0027), (\u0027b\u0027, \u0027d\u0027), (\u0027c\u0027, \u0027a\u0027), (\u0027c\u0027, \u0027b\u0027), (\u0027c\u0027, \u0027d\u0027), (\u0027d\u0027, \u0027a\u0027), (\u0027d\u0027, \u0027b\u0027), (\u0027d\u0027, \u0027c\u0027)]\n"
          ],
          "output_type": "stream"
        }
      ],
      "source": "\nresult \u003d itertools.permutations(letters, 2) # permutations assume order is important so returns (\u0027a\u0027, \u0027b\u0027) and (\u0027b\u0027, \u0027a\u0027)\nprint(list(result))\n\n",
      "metadata": {
        "pycharm": {
          "metadata": false,
          "name": "#%%\n",
          "is_executing": false
        }
      }
    },
    {
      "cell_type": "code",
      "execution_count": 29,
      "outputs": [
        {
          "name": "stdout",
          "text": [
            "[(1, 1, 1, 1), (1, 1, 1, 2), (1, 1, 1, 3), (1, 1, 2, 1), (1, 1, 2, 2), (1, 1, 2, 3), (1, 1, 3, 1), (1, 1, 3, 2), (1, 1, 3, 3), (1, 2, 1, 1), (1, 2, 1, 2), (1, 2, 1, 3), (1, 2, 2, 1), (1, 2, 2, 2), (1, 2, 2, 3), (1, 2, 3, 1), (1, 2, 3, 2), (1, 2, 3, 3), (1, 3, 1, 1), (1, 3, 1, 2), (1, 3, 1, 3), (1, 3, 2, 1), (1, 3, 2, 2), (1, 3, 2, 3), (1, 3, 3, 1), (1, 3, 3, 2), (1, 3, 3, 3), (2, 1, 1, 1), (2, 1, 1, 2), (2, 1, 1, 3), (2, 1, 2, 1), (2, 1, 2, 2), (2, 1, 2, 3), (2, 1, 3, 1), (2, 1, 3, 2), (2, 1, 3, 3), (2, 2, 1, 1), (2, 2, 1, 2), (2, 2, 1, 3), (2, 2, 2, 1), (2, 2, 2, 2), (2, 2, 2, 3), (2, 2, 3, 1), (2, 2, 3, 2), (2, 2, 3, 3), (2, 3, 1, 1), (2, 3, 1, 2), (2, 3, 1, 3), (2, 3, 2, 1), (2, 3, 2, 2), (2, 3, 2, 3), (2, 3, 3, 1), (2, 3, 3, 2), (2, 3, 3, 3), (3, 1, 1, 1), (3, 1, 1, 2), (3, 1, 1, 3), (3, 1, 2, 1), (3, 1, 2, 2), (3, 1, 2, 3), (3, 1, 3, 1), (3, 1, 3, 2), (3, 1, 3, 3), (3, 2, 1, 1), (3, 2, 1, 2), (3, 2, 1, 3), (3, 2, 2, 1), (3, 2, 2, 2), (3, 2, 2, 3), (3, 2, 3, 1), (3, 2, 3, 2), (3, 2, 3, 3), (3, 3, 1, 1), (3, 3, 1, 2), (3, 3, 1, 3), (3, 3, 2, 1), (3, 3, 2, 2), (3, 3, 2, 3), (3, 3, 3, 1), (3, 3, 3, 2), (3, 3, 3, 3)]\n"
          ],
          "output_type": "stream"
        }
      ],
      "source": "result \u003d itertools.product(numbers, repeat\u003d4) # all possible values of the numbers being multiplied\nprint(list(result))\n",
      "metadata": {
        "pycharm": {
          "metadata": false,
          "name": "#%%\n",
          "is_executing": false
        }
      }
    },
    {
      "cell_type": "code",
      "execution_count": 28,
      "outputs": [
        {
          "name": "stdout",
          "text": [
            "[(1, 1, 1, 1), (1, 1, 1, 2), (1, 1, 1, 3), (1, 1, 2, 2), (1, 1, 2, 3), (1, 1, 3, 3), (1, 2, 2, 2), (1, 2, 2, 3), (1, 2, 3, 3), (1, 3, 3, 3), (2, 2, 2, 2), (2, 2, 2, 3), (2, 2, 3, 3), (2, 3, 3, 3), (3, 3, 3, 3)]\n"
          ],
          "output_type": "stream"
        }
      ],
      "source": "result \u003d itertools.combinations_with_replacement(numbers, 4) # all possible combinations including repeats (e.g. 1 can be used more than once)\nprint(list(result))\n",
      "metadata": {
        "pycharm": {
          "metadata": false,
          "name": "#%%\n",
          "is_executing": false
        }
      }
    },
    {
      "cell_type": "code",
      "execution_count": 30,
      "outputs": [
        {
          "name": "stdout",
          "text": [
            "[\u0027a\u0027, \u0027b\u0027, \u0027c\u0027, \u0027d\u0027, 1, 2, 3, \u0027Bob\u0027, \u0027Frank\u0027]\n"
          ],
          "output_type": "stream"
        }
      ],
      "source": "combined \u003d itertools.chain(letters, numbers, names) # more efficient than creating a list for large inputs\nprint(list(combined))\n",
      "metadata": {
        "pycharm": {
          "metadata": false,
          "name": "#%%\n",
          "is_executing": false
        }
      }
    },
    {
      "cell_type": "code",
      "execution_count": null,
      "outputs": [],
      "source": "result \u003d itertools.islice(range(10), 1, 5, 2) # (range, start, stop, step) saves casting a large list to a slice\nprint(list(result))\n",
      "metadata": {
        "pycharm": {
          "metadata": false,
          "name": "#%%\n"
        }
      }
    },
    {
      "cell_type": "code",
      "execution_count": 35,
      "outputs": [
        {
          "name": "stdout",
          "text": [
            "Date: 2018-11-08\nAuthor: Corey\nDescription: This is a sample log file\n"
          ],
          "output_type": "stream"
        }
      ],
      "source": "with open(\u0027./input/test.log\u0027, \u0027r\u0027) as f:\n    header \u003d itertools.islice(f, 3)\n    \n    for line in header:\n        print(line, end \u003d \u0027\u0027)\n",
      "metadata": {
        "pycharm": {
          "metadata": false,
          "name": "#%%\n",
          "is_executing": false
        }
      }
    },
    {
      "cell_type": "code",
      "execution_count": 36,
      "outputs": [
        {
          "name": "stdout",
          "text": [
            "[\u0027a\u0027, \u0027b\u0027, \u0027d\u0027]\n"
          ],
          "output_type": "stream"
        }
      ],
      "source": "selectors \u003d [True, True, False, True]\n\nresult \u003d itertools.compress(letters, selectors) # uses an iterable to make selection\nprint(list(result))\n",
      "metadata": {
        "pycharm": {
          "metadata": false,
          "name": "#%%\n",
          "is_executing": false
        }
      }
    },
    {
      "cell_type": "code",
      "execution_count": 41,
      "outputs": [
        {
          "name": "stdout",
          "text": [
            "[0, 1]\n"
          ],
          "output_type": "stream"
        }
      ],
      "source": "def lt2(n):\n    return True if n \u003c 2 else False\n\nresult \u003d filter(lt2, numbers)  # similar to filter which uses a function to make selection\nprint(list(result))\n",
      "metadata": {
        "pycharm": {
          "metadata": false,
          "name": "#%%\n",
          "is_executing": false
        }
      }
    },
    {
      "cell_type": "code",
      "execution_count": 42,
      "outputs": [
        {
          "name": "stdout",
          "text": [
            "[2, 3]\n"
          ],
          "output_type": "stream"
        }
      ],
      "source": "result \u003d itertools.filterfalse(lt2, numbers)  # flips the output from the function\nprint(list(result))\n\n",
      "metadata": {
        "pycharm": {
          "metadata": false,
          "name": "#%%\n",
          "is_executing": false
        }
      }
    },
    {
      "cell_type": "code",
      "execution_count": 43,
      "outputs": [
        {
          "name": "stdout",
          "text": [
            "[2, 3, 2, 1, 0]\n"
          ],
          "output_type": "stream"
        }
      ],
      "source": "numbers \u003d [0, 1, 2, 3, 2, 1, 0]\n\nresult\u003ditertools.dropwhile(lt2, numbers) # drops numbers when condition not met. Once met it accepts all remaining numbers\nprint(list(result)) \n",
      "metadata": {
        "pycharm": {
          "metadata": false,
          "name": "#%%\n",
          "is_executing": false
        }
      }
    },
    {
      "cell_type": "code",
      "execution_count": 45,
      "outputs": [
        {
          "name": "stdout",
          "text": [
            "[0, 1]\n[0, 1, 3, 6, 8, 9, 9]\n"
          ],
          "output_type": "stream"
        }
      ],
      "source": "result\u003ditertools.takewhile(lt2, numbers) # output numbers until the first passing criterion is met\nprint(list(result)) \n",
      "metadata": {
        "pycharm": {
          "metadata": false,
          "name": "#%%\n",
          "is_executing": false
        }
      }
    },
    {
      "cell_type": "code",
      "execution_count": null,
      "outputs": [],
      "source": "result\u003ditertools.accumulate(numbers) # Adds up all numbers as they are encountered\nprint(list(result))\n",
      "metadata": {
        "pycharm": {
          "metadata": false,
          "name": "#%%\n"
        }
      }
    },
    {
      "cell_type": "code",
      "execution_count": 47,
      "outputs": [
        {
          "name": "stdout",
          "text": [
            "[1, 2, 6, 12, 12, 0]\n"
          ],
          "output_type": "stream"
        }
      ],
      "source": "numbers \u003d [1, 2, 3, 2, 1, 0]\nfrom operator import mul\nresult\u003ditertools.accumulate(numbers, mul) # multiplies up all numbers as they are encountered\nprint(list(result))\n",
      "metadata": {
        "pycharm": {
          "metadata": false,
          "name": "#%% \n",
          "is_executing": false
        }
      }
    },
    {
      "cell_type": "code",
      "execution_count": 48,
      "outputs": [],
      "source": "def get_state(person):\n    return person[\u0027state\u0027]\n\n\npeople \u003d [\n    {\n        \u0027name\u0027: \u0027John Doe\u0027,\n        \u0027city\u0027: \u0027Gotham\u0027,\n        \u0027state\u0027: \u0027NY\u0027\n    },\n    {\n        \u0027name\u0027: \u0027Jane Doe\u0027,\n        \u0027city\u0027: \u0027Kings Landing\u0027,\n        \u0027state\u0027: \u0027NY\u0027\n    },\n    {\n        \u0027name\u0027: \u0027Corey Schafer\u0027,\n        \u0027city\u0027: \u0027Boulder\u0027,\n        \u0027state\u0027: \u0027CO\u0027\n    },\n    {\n        \u0027name\u0027: \u0027Al Einstein\u0027,\n        \u0027city\u0027: \u0027Denver\u0027,\n        \u0027state\u0027: \u0027CO\u0027\n    },\n    {\n        \u0027name\u0027: \u0027John Henry\u0027,\n        \u0027city\u0027: \u0027Hinton\u0027,\n        \u0027state\u0027: \u0027WV\u0027\n    },\n    {\n        \u0027name\u0027: \u0027Randy Moss\u0027,\n        \u0027city\u0027: \u0027Rand\u0027,\n        \u0027state\u0027: \u0027WV\u0027\n    },\n    {\n        \u0027name\u0027: \u0027Nicole K\u0027,\n        \u0027city\u0027: \u0027Asheville\u0027,\n        \u0027state\u0027: \u0027NC\u0027\n    },\n    {\n        \u0027name\u0027: \u0027Jim Doe\u0027,\n        \u0027city\u0027: \u0027Charlotte\u0027,\n        \u0027state\u0027: \u0027NC\u0027\n    },\n    {\n        \u0027name\u0027: \u0027Jane Taylor\u0027,\n        \u0027city\u0027: \u0027Faketown\u0027,\n        \u0027state\u0027: \u0027NC\u0027\n    }\n]\n",
      "metadata": {
        "pycharm": {
          "metadata": false,
          "name": "#%%\n",
          "is_executing": false
        }
      }
    },
    {
      "cell_type": "code",
      "execution_count": 73,
      "outputs": [
        {
          "name": "stdout",
          "text": [
            "\u003citertools.groupby object at 0x107a0d6d8\u003e\n{\u0027name\u0027: \u0027John Doe\u0027, \u0027city\u0027: \u0027Gotham\u0027, \u0027state\u0027: \u0027NY\u0027}\n{\u0027name\u0027: \u0027Jane Doe\u0027, \u0027city\u0027: \u0027Kings Landing\u0027, \u0027state\u0027: \u0027NY\u0027}\n\n{\u0027name\u0027: \u0027Corey Schafer\u0027, \u0027city\u0027: \u0027Boulder\u0027, \u0027state\u0027: \u0027CO\u0027}\n{\u0027name\u0027: \u0027Al Einstein\u0027, \u0027city\u0027: \u0027Denver\u0027, \u0027state\u0027: \u0027CO\u0027}\n\n{\u0027name\u0027: \u0027John Henry\u0027, \u0027city\u0027: \u0027Hinton\u0027, \u0027state\u0027: \u0027WV\u0027}\n{\u0027name\u0027: \u0027Randy Moss\u0027, \u0027city\u0027: \u0027Rand\u0027, \u0027state\u0027: \u0027WV\u0027}\n\n{\u0027name\u0027: \u0027Nicole K\u0027, \u0027city\u0027: \u0027Asheville\u0027, \u0027state\u0027: \u0027NC\u0027}\n{\u0027name\u0027: \u0027Jim Doe\u0027, \u0027city\u0027: \u0027Charlotte\u0027, \u0027state\u0027: \u0027NC\u0027}\n{\u0027name\u0027: \u0027Jane Taylor\u0027, \u0027city\u0027: \u0027Faketown\u0027, \u0027state\u0027: \u0027NC\u0027}\n\n\u003citertools.groupby object at 0x107a0d6d8\u003e\nNY 2\nCO 2\nWV 2\nNC 3\n"
          ],
          "output_type": "stream"
        }
      ],
      "source": "person_group \u003d itertools.groupby(people, get_state) # Expects the list to be sorted\nprint(person_group)\nfor key, group in person_group:\n\n    for person in group:\n        print(person)\n\n    print()\nprint(person_group)\nperson_group \u003d itertools.groupby(people, get_state) # group has been \u0027exhausted\u0027 to is now empty\n\nfor key, group in person_group:\n    print(key, len(list(group)))\n    ",
      "metadata": {
        "pycharm": {
          "metadata": false,
          "name": "#%%\n",
          "is_executing": false
        }
      }
    },
    {
      "cell_type": "code",
      "execution_count": 74,
      "outputs": [
        {
          "name": "stdout",
          "text": [
            "[(\u0027NY\u0027, \u003citertools._grouper object at 0x1079f3240\u003e), (\u0027CO\u0027, \u003citertools._grouper object at 0x1079f36a0\u003e), (\u0027WV\u0027, \u003citertools._grouper object at 0x1079f3160\u003e), (\u0027NC\u0027, \u003citertools._grouper object at 0x1079f37f0\u003e)]\n[(\u0027NY\u0027, \u003citertools._grouper object at 0x1079f3240\u003e), (\u0027CO\u0027, \u003citertools._grouper object at 0x1079f36a0\u003e), (\u0027WV\u0027, \u003citertools._grouper object at 0x1079f3160\u003e), (\u0027NC\u0027, \u003citertools._grouper object at 0x1079f37f0\u003e)]\n"
          ],
          "output_type": "stream"
        }
      ],
      "source": "person_group \u003d itertools.groupby(people, get_state) # Expects the list to be sorted\ncopy1, copy2 \u003d itertools.tee(person_group)\nprint(list(copy1))\nprint(list(copy2))\n\nfor key, group in copy1: \n    for person in group:\n        print(person)\n    print()\n\nfor key2, group2 in copy2: # Still doesn\u0027t work correctly as TEE made copies but the underlying grouper objects are exhausted\n    print(key2, len(list(group2)))\n",
      "metadata": {
        "pycharm": {
          "metadata": false,
          "name": "#%%\n",
          "is_executing": false
        }
      }
    }
  ],
  "metadata": {
    "language_info": {
      "codemirror_mode": {
        "name": "ipython",
        "version": 2
      },
      "file_extension": ".py",
      "mimetype": "text/x-python",
      "name": "python",
      "nbconvert_exporter": "python",
      "pygments_lexer": "ipython2",
      "version": "2.7.6"
    },
    "kernelspec": {
      "name": "python3",
      "language": "python",
      "display_name": "Python 3"
    }
  },
  "nbformat": 4,
  "nbformat_minor": 0
}