{
  "cells": [
    {
      "cell_type": "markdown",
      "metadata": {
        "collapsed": true,
        "pycharm": {
          "name": "#%% md\n"
        }
      },
      "source": "## Model precision\n\n#### Confusion Matrix\n\n\\begin{array}{c|c|c|} \n \u0026 \\text{Pred: Spam} \u0026 \\text{Pred: Real} \\\\ \\hline\n\\text{Actual: Spam} \u0026 \\text{True Positive} \u0026 \\text{False Negative} \\\\ \\hline\n\\text{Actual: Real} \u0026 \\text{False Positive} \u0026 \\text{True Negative} \\\\ \\hline\n\\end{array}\n\nAccuracy: $\\frac{tp+tn}{tp+tn+fp+fn}$\n\nPrecision: $\\frac{tp}{tp+fp}$\n\nRecall$\\quad: \\frac{tp}{tp+fn}$\n\nF1 score: $2\\cdot\\frac{precision\\cdot recall}{precision+recall}$\n"
    },
    {
      "cell_type": "code",
      "execution_count": 3,
      "outputs": [
        {
          "name": "stdout",
          "text": [
            "[[176  30]\n [ 56  46]]\n              precision    recall  f1-score   support\n\n           0       0.76      0.85      0.80       206\n           1       0.61      0.45      0.52       102\n\n   micro avg       0.72      0.72      0.72       308\n   macro avg       0.68      0.65      0.66       308\nweighted avg       0.71      0.72      0.71       308\n\n"
          ],
          "output_type": "stream"
        }
      ],
      "source": "# Import necessary modules\nfrom sklearn.metrics import confusion_matrix\nfrom sklearn.metrics import classification_report\nfrom sklearn.model_selection import train_test_split\nfrom sklearn.neighbors import KNeighborsClassifier\nimport pandas as pd\ndiabetes \u003d pd.read_csv(\u0027.   ./input/diabetes.csv\u0027)\nX \u003d diabetes.drop(\u0027Outcome\u0027,axis\u003d1)\ny \u003d diabetes[\u0027Outcome\u0027]\n# Create training and test set\nX_train, X_test, y_train, y_test \u003d train_test_split(X, y, test_size\u003d.4, random_state\u003d42)\n\n# Instantiate a k-NN classifier: knn\nknn \u003d KNeighborsClassifier(n_neighbors\u003d6)\n\n# Fit the classifier to the training data\nknn.fit(X_train, y_train)\n\n# Predict the labels of the test data: y_pred\ny_pred \u003d knn.predict(X_test)\n\n# Generate the confusion matrix and classification report\nprint(confusion_matrix(y_test, y_pred))\nprint(classification_report(y_test, y_pred))\n",
      "metadata": {
        "pycharm": {
          "metadata": false,
          "name": "#%%\n",
          "is_executing": false
        }
      }
    },
    {
      "cell_type": "code",
      "execution_count": 14,
      "outputs": [
        {
          "data": {
            "text/plain": "LogisticRegression(C\u003d1.0, class_weight\u003dNone, dual\u003dFalse, fit_intercept\u003dTrue,\n          intercept_scaling\u003d1, max_iter\u003d100, multi_class\u003d\u0027warn\u0027,\n          n_jobs\u003dNone, penalty\u003d\u0027l2\u0027, random_state\u003dNone, solver\u003d\u0027liblinear\u0027,\n          tol\u003d0.0001, verbose\u003d0, warm_start\u003dFalse)"
          },
          "metadata": {},
          "output_type": "execute_result",
          "execution_count": 14
        }
      ],
      "source": "# Logistic Regression\n\nfrom sklearn.linear_model import LogisticRegression\nfrom sklearn.metrics import confusion_matrix, classification_report\n\n# Create training and test sets\nX_train, X_test, y_train, y_test \u003d train_test_split(X, y, test_size \u003d 0.4, random_state\u003d42)\n\n# Create the LogisticRegression classifier: logreg\nlogreg \u003d LogisticRegression(solver\u003d\u0027liblinear\u0027)\n\n# Fit the classifier to the training data\nlogreg.fit(X_train, y_train)\n",
      "metadata": {
        "pycharm": {
          "metadata": false,
          "name": "#%% \n",
          "is_executing": false
        }
      }
    },
    {
      "cell_type": "code",
      "execution_count": 7,
      "outputs": [
        {
          "data": {
            "text/plain": "\u003cFigure size 432x288 with 1 Axes\u003e",
            "image/png": "[encoded data removed]"
          },
          "metadata": {
            "needs_background": "light"
          },
          "output_type": "display_data"
        },
        {
          "name": "stdout",
          "text": [
            "[[174  32]\n [ 36  66]]\n              precision    recall  f1-score   support\n\n           0       0.83      0.84      0.84       206\n           1       0.67      0.65      0.66       102\n\n   micro avg       0.78      0.78      0.78       308\n   macro avg       0.75      0.75      0.75       308\nweighted avg       0.78      0.78      0.78       308\n\n"
          ],
          "output_type": "stream"
        }
      ],
      "source": "# ROC Curve (Receiver Operating Characteristic Curve)\n# Import necessary modules\nfrom sklearn.metrics import roc_curve\nimport matplotlib.pyplot as plt\n\n# Compute predicted probabilities: y_pred_prob\ny_pred_prob \u003d logreg.predict_proba(X_test)[:,1]\n\n# Generate ROC curve values: fpr, tpr, thresholds\nfpr, tpr, thresholds \u003d roc_curve(y_test, y_pred_prob)\n\n# Plot ROC curve\nplt.plot([0, 1], [0, 1], \u0027k--\u0027)\nplt.plot(fpr, tpr)\nplt.xlabel(\u0027False Positive Rate\u0027)\nplt.ylabel(\u0027True Positive Rate\u0027)\nplt.title(\u0027ROC Curve\u0027)\nplt.show()\n\n# Predict the labels of the test set: y_pred\ny_pred \u003d logreg.predict(X_test)\n\n# Compute and print the confusion matrix and classification report\nprint(confusion_matrix(y_test, y_pred))\nprint(classification_report(y_test, y_pred))\n",
      "metadata": {
        "pycharm": {
          "metadata": false,
          "name": "#%%\n",
          "is_executing": false
        }
      }
    },
    {
      "cell_type": "code",
      "execution_count": 15,
      "outputs": [
        {
          "name": "stdout",
          "text": [
            "AUC: 0.8268608414239482\nAUC scores computed using 5-fold cross-validation: [0.7987037  0.80796296 0.81944444 0.86584906 0.85037736]\n"
          ],
          "output_type": "stream"
        }
      ],
      "source": "#   ROC AUC (Area under the curve)\nfrom sklearn.metrics import roc_auc_score\n\n# Compute and print AUC score\nprint(\"AUC: {}\".format(roc_auc_score(y_test, y_pred_prob)))\n\nfrom sklearn.model_selection import cross_val_score\n# Compute cross-validated AUC scores: cv_auc\ncv_auc \u003d cross_val_score(logreg, X, y, cv\u003d5, scoring\u003d\u0027roc_auc\u0027)\n\n# Print list of AUC scores\nprint(\"AUC scores computed using 5-fold cross-validation: {}\".format(cv_auc))\n",
      "metadata": {
        "pycharm": {
          "metadata": false,
          "name": "#%%\n",
          "is_executing": false
        }
      }
    },
    {
      "cell_type": "markdown",
      "source": "## Hyperparameter Tuning\n\n- Linear Regression: Choosing parameters\n- Ridge/Lasso regression: Choosing alpha\n- k-Nearest Neighbors: Choosing n_neighbors\nParameters like alpha and k are Hyperparameters. \nHyperparameters cannot be learned by fitting the model.\n",
      "metadata": {
        "pycharm": {
          "metadata": false,
          "name": "#%% md\n"
        }
      }
    },
    {
      "cell_type": "code",
      "execution_count": 16,
      "outputs": [
        {
          "name": "stdout",
          "text": [
            "{\u0027n_neighbors\u0027: 14}\n0.7578125\nKNeighborsClassifier(algorithm\u003d\u0027auto\u0027, leaf_size\u003d30, metric\u003d\u0027minkowski\u0027,\n           metric_params\u003dNone, n_jobs\u003dNone, n_neighbors\u003d14, p\u003d2,\n           weights\u003d\u0027uniform\u0027)\n13\n"
          ],
          "output_type": "stream"
        }
      ],
      "source": "from sklearn.model_selection import GridSearchCV\nimport numpy as np\n\nparam_grid \u003d {\u0027n_neighbors\u0027: np.arange(1,50)}\nknn \u003d KNeighborsClassifier()\nknn_cv \u003d GridSearchCV(knn, param_grid, cv\u003d5)\nknn_cv.fit(X, y)\nprint(knn_cv.best_params_)\nprint(knn_cv.best_score_)\nprint(knn_cv.best_estimator_)\nprint(knn_cv.best_index_)\n",
      "metadata": {
        "pycharm": {
          "metadata": false,
          "name": "#%%\n",
          "is_executing": false
        }
      }
    },
    {
      "cell_type": "code",
      "execution_count": 17,
      "outputs": [
        {
          "name": "stdout",
          "text": [
            "Tuned Decision Tree Parameters: {\u0027criterion\u0027: \u0027gini\u0027, \u0027max_depth\u0027: 3, \u0027max_features\u0027: 6, \u0027min_samples_leaf\u0027: 6}\nBest score is 0.7356770833333334\n"
          ],
          "output_type": "stream"
        }
      ],
      "source": "# Import necessary modules\nfrom scipy.stats import randint\nfrom sklearn.tree import DecisionTreeClassifier\nfrom sklearn.model_selection import RandomizedSearchCV\n\n# Setup the parameters and distributions to sample from: param_dist\nparam_dist \u003d {\"max_depth\": [3, None],\n              \"max_features\": randint(1, 9),\n              \"min_samples_leaf\": randint(1, 9),\n              \"criterion\": [\"gini\", \"entropy\"]}\n\n# Instantiate a Decision Tree classifier: tree\ntree \u003d DecisionTreeClassifier()\n\n# Instantiate the RandomizedSearchCV object: tree_cv\ntree_cv \u003d RandomizedSearchCV(tree, param_dist, cv\u003d5)\n\n# Fit it to the data\ntree_cv.fit(X, y)\n\n# Print the tuned parameters and score\nprint(\"Tuned Decision Tree Parameters: {}\".format(tree_cv.best_params_))\nprint(\"Best score is {}\".format(tree_cv.best_score_))\n\n",
      "metadata": {
        "pycharm": {
          "metadata": false,
          "name": "#%%\n",
          "is_executing": false
        }
      }
    },
    {
      "cell_type": "code",
      "execution_count": 19,
      "outputs": [
        {
          "name": "stdout",
          "text": [
            "Tuned Logistic Regression Parameter: {\u0027C\u0027: 31.622776601683793, \u0027penalty\u0027: \u0027l2\u0027}\nTuned Logistic Regression Accuracy: 0.7673913043478261\n"
          ],
          "output_type": "stream"
        },
        {
          "name": "stderr",
          "text": [
            "/Users/davidxbuck/anaconda3/envs/MachineLearning2/lib/python3.6/site-packages/sklearn/model_selection/_search.py:841: DeprecationWarning: The default of the `iid` parameter will change from True to False in version 0.22 and will be removed in 0.24. This will change numeric results when test-set sizes are unequal.\n  DeprecationWarning)\n"
          ],
          "output_type": "stream"
        }
      ],
      "source": "#   Using a hold-out set (use train_test_split to create)\n\n# Import necessary modules\nfrom sklearn.model_selection import train_test_split\nfrom sklearn.linear_model import LogisticRegression\nfrom sklearn.model_selection import GridSearchCV\n\n# Create the hyperparameter grid\nc_space \u003d np.logspace(-5, 8, 15)\nparam_grid \u003d {\u0027C\u0027: c_space, \u0027penalty\u0027: [\u0027l1\u0027, \u0027l2\u0027]}\n\n# Instantiate the logistic regression classifier: logreg\nlogreg \u003d LogisticRegression(solver\u003d\u0027liblinear\u0027)\n\n# Create train and test sets\nX_train, X_test, y_train, y_test \u003d train_test_split(X, y, test_size\u003d0.4, random_state\u003d42)\n\n# Instantiate the GridSearchCV object: logreg_cv\nlogreg_cv \u003d GridSearchCV(logreg, param_grid, cv\u003d5)\n\n# Fit it to the training data\nlogreg_cv.fit(X_train, y_train)\n\n# Print the optimal parameters and best score\nprint(\"Tuned Logistic Regression Parameter: {}\".format(logreg_cv.best_params_))\nprint(\"Tuned Logistic Regression Accuracy: {}\".format(logreg_cv.best_score_))\n",
      "metadata": {
        "pycharm": {
          "metadata": false,
          "name": "#%% \n",
          "is_executing": false
        }
      }
    },
    {
      "cell_type": "markdown",
      "source": "### ElasticNet\n\nLasso uses the L1 penalty to regularize, Ridge usex the L2 penalty. There is another type of regularized regression known as the elastic net. In elastic net regularization, the penalty term is a linear combination of the L1 and L2 penalties:\n\n$$a∗L1+b∗L2$$\n\nIn scikit-learn, this term is represented by the \u0027l1_ratio\u0027 parameter: An \u0027l1_ratio\u0027 of 1 corresponds to an L1 penalty, and anything lower is a combination of L1 and L2.\n\n\n",
      "metadata": {
        "pycharm": {
          "metadata": false,
          "name": "#%% md\n"
        }
      }
    },
    {
      "cell_type": "code",
      "execution_count": 20,
      "outputs": [
        {
          "name": "stderr",
          "text": [
            "/Users/davidxbuck/anaconda3/envs/MachineLearning2/lib/python3.6/site-packages/sklearn/linear_model/coordinate_descent.py:492: ConvergenceWarning: Objective did not converge. You might want to increase the number of iterations. Fitting data with very small alpha may cause precision problems.\n  ConvergenceWarning)\n/Users/davidxbuck/anaconda3/envs/MachineLearning2/lib/python3.6/site-packages/sklearn/linear_model/coordinate_descent.py:492: ConvergenceWarning: Objective did not converge. You might want to increase the number of iterations. Fitting data with very small alpha may cause precision problems.\n  ConvergenceWarning)\n/Users/davidxbuck/anaconda3/envs/MachineLearning2/lib/python3.6/site-packages/sklearn/linear_model/coordinate_descent.py:492: ConvergenceWarning: Objective did not converge. You might want to increase the number of iterations. Fitting data with very small alpha may cause precision problems.\n  ConvergenceWarning)\n/Users/davidxbuck/anaconda3/envs/MachineLearning2/lib/python3.6/site-packages/sklearn/linear_model/coordinate_descent.py:492: ConvergenceWarning: Objective did not converge. You might want to increase the number of iterations. Fitting data with very small alpha may cause precision problems.\n  ConvergenceWarning)\n/Users/davidxbuck/anaconda3/envs/MachineLearning2/lib/python3.6/site-packages/sklearn/linear_model/coordinate_descent.py:492: ConvergenceWarning: Objective did not converge. You might want to increase the number of iterations. Fitting data with very small alpha may cause precision problems.\n  ConvergenceWarning)\n",
            "/Users/davidxbuck/anaconda3/envs/MachineLearning2/lib/python3.6/site-packages/sklearn/linear_model/coordinate_descent.py:492: ConvergenceWarning: Objective did not converge. You might want to increase the number of iterations. Fitting data with very small alpha may cause precision problems.\n  ConvergenceWarning)\n"
          ],
          "output_type": "stream"
        },
        {
          "name": "stdout",
          "text": [
            "Tuned ElasticNet l1 ratio: {\u0027l1_ratio\u0027: 0.0}\nTuned ElasticNet R squared: 0.24765337510702734\nTuned ElasticNet MSE: 0.16664179543611005\n"
          ],
          "output_type": "stream"
        }
      ],
      "source": "# Import necessary modules\nfrom sklearn.linear_model import ElasticNet\nfrom sklearn.metrics import mean_squared_error\nfrom sklearn.model_selection import GridSearchCV, train_test_split\n\n\n# Create train and test sets\nX_train, X_test, y_train, y_test \u003d train_test_split(X, y, test_size\u003d0.4, random_state\u003d42)\n\n# Create the hyperparameter grid\nl1_space \u003d np.linspace(0, 1, 30)\nparam_grid \u003d {\u0027l1_ratio\u0027: l1_space}\n\n# Instantiate the ElasticNet regressor: elastic_net\nelastic_net \u003d ElasticNet()\n\n# Setup the GridSearchCV object: gm_cv\ngm_cv \u003d GridSearchCV(elastic_net, param_grid, cv\u003d5)\n\n# Fit it to the training data\ngm_cv.fit(X_train, y_train)\n\n# Predict on the test set and compute metrics\ny_pred \u003d gm_cv.predict(X_test)\nr2 \u003d gm_cv.score(X_test, y_test)\nmse \u003d mean_squared_error(y_test, y_pred)\nprint(\"Tuned ElasticNet l1 ratio: {}\".format(gm_cv.best_params_))\nprint(\"Tuned ElasticNet R squared: {}\".format(r2))\nprint(\"Tuned ElasticNet MSE: {}\".format(mse))\n\n",
      "metadata": {
        "pycharm": {
          "metadata": false,
          "name": "#%%\n",
          "is_executing": false
        }
      }
    },
    {
      "cell_type": "code",
      "execution_count": 24,
      "outputs": [
        {
          "name": "stderr",
          "text": [
            "/Users/davidxbuck/anaconda3/envs/MachineLearning2/lib/python3.6/site-packages/sklearn/model_selection/_split.py:2053: FutureWarning: You should specify a value for \u0027cv\u0027 instead of relying on the default value. The default value will change from 3 to 5 in version 0.22.\n  warnings.warn(CV_WARNING, FutureWarning)\n/Users/davidxbuck/anaconda3/envs/MachineLearning2/lib/python3.6/site-packages/sklearn/preprocessing/data.py:645: DataConversionWarning: Data with input dtype int64, float64 were all converted to float64 by StandardScaler.\n  return self.partial_fit(X, y)\n/Users/davidxbuck/anaconda3/envs/MachineLearning2/lib/python3.6/site-packages/sklearn/base.py:467: DataConversionWarning: Data with input dtype int64, float64 were all converted to float64 by StandardScaler.\n  return self.fit(X, y, **fit_params).transform(X)\n/Users/davidxbuck/anaconda3/envs/MachineLearning2/lib/python3.6/site-packages/sklearn/pipeline.py:511: DataConversionWarning: Data with input dtype int64, float64 were all converted to float64 by StandardScaler.\n  Xt \u003d transform.transform(Xt)\n/Users/davidxbuck/anaconda3/envs/MachineLearning2/lib/python3.6/site-packages/sklearn/pipeline.py:511: DataConversionWarning: Data with input dtype int64, float64 were all converted to float64 by StandardScaler.\n  Xt \u003d transform.transform(Xt)\n/Users/davidxbuck/anaconda3/envs/MachineLearning2/lib/python3.6/site-packages/sklearn/preprocessing/data.py:645: DataConversionWarning: Data with input dtype int64, float64 were all converted to float64 by StandardScaler.\n  return self.partial_fit(X, y)\n/Users/davidxbuck/anaconda3/envs/MachineLearning2/lib/python3.6/site-packages/sklearn/base.py:467: DataConversionWarning: Data with input dtype int64, float64 were all converted to float64 by StandardScaler.\n  return self.fit(X, y, **fit_params).transform(X)\n/Users/davidxbuck/anaconda3/envs/MachineLearning2/lib/python3.6/site-packages/sklearn/pipeline.py:511: DataConversionWarning: Data with input dtype int64, float64 were all converted to float64 by StandardScaler.\n  Xt \u003d transform.transform(Xt)\n/Users/davidxbuck/anaconda3/envs/MachineLearning2/lib/python3.6/site-packages/sklearn/pipeline.py:511: DataConversionWarning: Data with input dtype int64, float64 were all converted to float64 by StandardScaler.\n  Xt \u003d transform.transform(Xt)\n/Users/davidxbuck/anaconda3/envs/MachineLearning2/lib/python3.6/site-packages/sklearn/preprocessing/data.py:645: DataConversionWarning: Data with input dtype int64, float64 were all converted to float64 by StandardScaler.\n  return self.partial_fit(X, y)\n/Users/davidxbuck/anaconda3/envs/MachineLearning2/lib/python3.6/site-packages/sklearn/base.py:467: DataConversionWarning: Data with input dtype int64, float64 were all converted to float64 by StandardScaler.\n  return self.fit(X, y, **fit_params).transform(X)\n/Users/davidxbuck/anaconda3/envs/MachineLearning2/lib/python3.6/site-packages/sklearn/pipeline.py:511: DataConversionWarning: Data with input dtype int64, float64 were all converted to float64 by StandardScaler.\n  Xt \u003d transform.transform(Xt)\n/Users/davidxbuck/anaconda3/envs/MachineLearning2/lib/python3.6/site-packages/sklearn/pipeline.py:511: DataConversionWarning: Data with input dtype int64, float64 were all converted to float64 by StandardScaler.\n  Xt \u003d transform.transform(Xt)\n/Users/davidxbuck/anaconda3/envs/MachineLearning2/lib/python3.6/site-packages/sklearn/preprocessing/data.py:645: DataConversionWarning: Data with input dtype int64, float64 were all converted to float64 by StandardScaler.\n  return self.partial_fit(X, y)\n/Users/davidxbuck/anaconda3/envs/MachineLearning2/lib/python3.6/site-packages/sklearn/base.py:467: DataConversionWarning: Data with input dtype int64, float64 were all converted to float64 by StandardScaler.\n  return self.fit(X, y, **fit_params).transform(X)\n/Users/davidxbuck/anaconda3/envs/MachineLearning2/lib/python3.6/site-packages/sklearn/pipeline.py:511: DataConversionWarning: Data with input dtype int64, float64 were all converted to float64 by StandardScaler.\n  Xt \u003d transform.transform(Xt)\n/Users/davidxbuck/anaconda3/envs/MachineLearning2/lib/python3.6/site-packages/sklearn/pipeline.py:511: DataConversionWarning: Data with input dtype int64, float64 were all converted to float64 by StandardScaler.\n  Xt \u003d transform.transform(Xt)\n/Users/davidxbuck/anaconda3/envs/MachineLearning2/lib/python3.6/site-packages/sklearn/preprocessing/data.py:645: DataConversionWarning: Data with input dtype int64, float64 were all converted to float64 by StandardScaler.\n  return self.partial_fit(X, y)\n/Users/davidxbuck/anaconda3/envs/MachineLearning2/lib/python3.6/site-packages/sklearn/base.py:467: DataConversionWarning: Data with input dtype int64, float64 were all converted to float64 by StandardScaler.\n  return self.fit(X, y, **fit_params).transform(X)\n/Users/davidxbuck/anaconda3/envs/MachineLearning2/lib/python3.6/site-packages/sklearn/pipeline.py:511: DataConversionWarning: Data with input dtype int64, float64 were all converted to float64 by StandardScaler.\n  Xt \u003d transform.transform(Xt)\n/Users/davidxbuck/anaconda3/envs/MachineLearning2/lib/python3.6/site-packages/sklearn/pipeline.py:511: DataConversionWarning: Data with input dtype int64, float64 were all converted to float64 by StandardScaler.\n  Xt \u003d transform.transform(Xt)\n/Users/davidxbuck/anaconda3/envs/MachineLearning2/lib/python3.6/site-packages/sklearn/preprocessing/data.py:645: DataConversionWarning: Data with input dtype int64, float64 were all converted to float64 by StandardScaler.\n  return self.partial_fit(X, y)\n/Users/davidxbuck/anaconda3/envs/MachineLearning2/lib/python3.6/site-packages/sklearn/base.py:467: DataConversionWarning: Data with input dtype int64, float64 were all converted to float64 by StandardScaler.\n  return self.fit(X, y, **fit_params).transform(X)\n/Users/davidxbuck/anaconda3/envs/MachineLearning2/lib/python3.6/site-packages/sklearn/pipeline.py:511: DataConversionWarning: Data with input dtype int64, float64 were all converted to float64 by StandardScaler.\n  Xt \u003d transform.transform(Xt)\n/Users/davidxbuck/anaconda3/envs/MachineLearning2/lib/python3.6/site-packages/sklearn/pipeline.py:511: DataConversionWarning: Data with input dtype int64, float64 were all converted to float64 by StandardScaler.\n  Xt \u003d transform.transform(Xt)\n/Users/davidxbuck/anaconda3/envs/MachineLearning2/lib/python3.6/site-packages/sklearn/preprocessing/data.py:645: DataConversionWarning: Data with input dtype int64, float64 were all converted to float64 by StandardScaler.\n  return self.partial_fit(X, y)\n",
            "/Users/davidxbuck/anaconda3/envs/MachineLearning2/lib/python3.6/site-packages/sklearn/base.py:467: DataConversionWarning: Data with input dtype int64, float64 were all converted to float64 by StandardScaler.\n  return self.fit(X, y, **fit_params).transform(X)\n/Users/davidxbuck/anaconda3/envs/MachineLearning2/lib/python3.6/site-packages/sklearn/pipeline.py:511: DataConversionWarning: Data with input dtype int64, float64 were all converted to float64 by StandardScaler.\n  Xt \u003d transform.transform(Xt)\n/Users/davidxbuck/anaconda3/envs/MachineLearning2/lib/python3.6/site-packages/sklearn/pipeline.py:511: DataConversionWarning: Data with input dtype int64, float64 were all converted to float64 by StandardScaler.\n  Xt \u003d transform.transform(Xt)\n/Users/davidxbuck/anaconda3/envs/MachineLearning2/lib/python3.6/site-packages/sklearn/preprocessing/data.py:645: DataConversionWarning: Data with input dtype int64, float64 were all converted to float64 by StandardScaler.\n  return self.partial_fit(X, y)\n/Users/davidxbuck/anaconda3/envs/MachineLearning2/lib/python3.6/site-packages/sklearn/base.py:467: DataConversionWarning: Data with input dtype int64, float64 were all converted to float64 by StandardScaler.\n  return self.fit(X, y, **fit_params).transform(X)\n/Users/davidxbuck/anaconda3/envs/MachineLearning2/lib/python3.6/site-packages/sklearn/pipeline.py:511: DataConversionWarning: Data with input dtype int64, float64 were all converted to float64 by StandardScaler.\n  Xt \u003d transform.transform(Xt)\n/Users/davidxbuck/anaconda3/envs/MachineLearning2/lib/python3.6/site-packages/sklearn/pipeline.py:511: DataConversionWarning: Data with input dtype int64, float64 were all converted to float64 by StandardScaler.\n  Xt \u003d transform.transform(Xt)\n/Users/davidxbuck/anaconda3/envs/MachineLearning2/lib/python3.6/site-packages/sklearn/preprocessing/data.py:645: DataConversionWarning: Data with input dtype int64, float64 were all converted to float64 by StandardScaler.\n  return self.partial_fit(X, y)\n/Users/davidxbuck/anaconda3/envs/MachineLearning2/lib/python3.6/site-packages/sklearn/base.py:467: DataConversionWarning: Data with input dtype int64, float64 were all converted to float64 by StandardScaler.\n  return self.fit(X, y, **fit_params).transform(X)\n/Users/davidxbuck/anaconda3/envs/MachineLearning2/lib/python3.6/site-packages/sklearn/pipeline.py:511: DataConversionWarning: Data with input dtype int64, float64 were all converted to float64 by StandardScaler.\n  Xt \u003d transform.transform(Xt)\n/Users/davidxbuck/anaconda3/envs/MachineLearning2/lib/python3.6/site-packages/sklearn/pipeline.py:511: DataConversionWarning: Data with input dtype int64, float64 were all converted to float64 by StandardScaler.\n  Xt \u003d transform.transform(Xt)\n/Users/davidxbuck/anaconda3/envs/MachineLearning2/lib/python3.6/site-packages/sklearn/preprocessing/data.py:645: DataConversionWarning: Data with input dtype int64, float64 were all converted to float64 by StandardScaler.\n  return self.partial_fit(X, y)\n/Users/davidxbuck/anaconda3/envs/MachineLearning2/lib/python3.6/site-packages/sklearn/base.py:467: DataConversionWarning: Data with input dtype int64, float64 were all converted to float64 by StandardScaler.\n  return self.fit(X, y, **fit_params).transform(X)\n/Users/davidxbuck/anaconda3/envs/MachineLearning2/lib/python3.6/site-packages/sklearn/pipeline.py:511: DataConversionWarning: Data with input dtype int64, float64 were all converted to float64 by StandardScaler.\n  Xt \u003d transform.transform(Xt)\n/Users/davidxbuck/anaconda3/envs/MachineLearning2/lib/python3.6/site-packages/sklearn/pipeline.py:511: DataConversionWarning: Data with input dtype int64, float64 were all converted to float64 by StandardScaler.\n  Xt \u003d transform.transform(Xt)\n/Users/davidxbuck/anaconda3/envs/MachineLearning2/lib/python3.6/site-packages/sklearn/preprocessing/data.py:645: DataConversionWarning: Data with input dtype int64, float64 were all converted to float64 by StandardScaler.\n  return self.partial_fit(X, y)\n/Users/davidxbuck/anaconda3/envs/MachineLearning2/lib/python3.6/site-packages/sklearn/base.py:467: DataConversionWarning: Data with input dtype int64, float64 were all converted to float64 by StandardScaler.\n  return self.fit(X, y, **fit_params).transform(X)\n/Users/davidxbuck/anaconda3/envs/MachineLearning2/lib/python3.6/site-packages/sklearn/pipeline.py:511: DataConversionWarning: Data with input dtype int64, float64 were all converted to float64 by StandardScaler.\n  Xt \u003d transform.transform(Xt)\n/Users/davidxbuck/anaconda3/envs/MachineLearning2/lib/python3.6/site-packages/sklearn/pipeline.py:511: DataConversionWarning: Data with input dtype int64, float64 were all converted to float64 by StandardScaler.\n  Xt \u003d transform.transform(Xt)\n",
            "/Users/davidxbuck/anaconda3/envs/MachineLearning2/lib/python3.6/site-packages/sklearn/preprocessing/data.py:645: DataConversionWarning: Data with input dtype int64, float64 were all converted to float64 by StandardScaler.\n  return self.partial_fit(X, y)\n/Users/davidxbuck/anaconda3/envs/MachineLearning2/lib/python3.6/site-packages/sklearn/base.py:467: DataConversionWarning: Data with input dtype int64, float64 were all converted to float64 by StandardScaler.\n  return self.fit(X, y, **fit_params).transform(X)\n/Users/davidxbuck/anaconda3/envs/MachineLearning2/lib/python3.6/site-packages/sklearn/pipeline.py:511: DataConversionWarning: Data with input dtype int64, float64 were all converted to float64 by StandardScaler.\n  Xt \u003d transform.transform(Xt)\n/Users/davidxbuck/anaconda3/envs/MachineLearning2/lib/python3.6/site-packages/sklearn/pipeline.py:511: DataConversionWarning: Data with input dtype int64, float64 were all converted to float64 by StandardScaler.\n  Xt \u003d transform.transform(Xt)\n/Users/davidxbuck/anaconda3/envs/MachineLearning2/lib/python3.6/site-packages/sklearn/preprocessing/data.py:645: DataConversionWarning: Data with input dtype int64, float64 were all converted to float64 by StandardScaler.\n  return self.partial_fit(X, y)\n/Users/davidxbuck/anaconda3/envs/MachineLearning2/lib/python3.6/site-packages/sklearn/base.py:467: DataConversionWarning: Data with input dtype int64, float64 were all converted to float64 by StandardScaler.\n  return self.fit(X, y, **fit_params).transform(X)\n/Users/davidxbuck/anaconda3/envs/MachineLearning2/lib/python3.6/site-packages/sklearn/pipeline.py:511: DataConversionWarning: Data with input dtype int64, float64 were all converted to float64 by StandardScaler.\n  Xt \u003d transform.transform(Xt)\n/Users/davidxbuck/anaconda3/envs/MachineLearning2/lib/python3.6/site-packages/sklearn/pipeline.py:511: DataConversionWarning: Data with input dtype int64, float64 were all converted to float64 by StandardScaler.\n  Xt \u003d transform.transform(Xt)\n/Users/davidxbuck/anaconda3/envs/MachineLearning2/lib/python3.6/site-packages/sklearn/preprocessing/data.py:645: DataConversionWarning: Data with input dtype int64, float64 were all converted to float64 by StandardScaler.\n  return self.partial_fit(X, y)\n/Users/davidxbuck/anaconda3/envs/MachineLearning2/lib/python3.6/site-packages/sklearn/base.py:467: DataConversionWarning: Data with input dtype int64, float64 were all converted to float64 by StandardScaler.\n  return self.fit(X, y, **fit_params).transform(X)\n/Users/davidxbuck/anaconda3/envs/MachineLearning2/lib/python3.6/site-packages/sklearn/pipeline.py:511: DataConversionWarning: Data with input dtype int64, float64 were all converted to float64 by StandardScaler.\n  Xt \u003d transform.transform(Xt)\n/Users/davidxbuck/anaconda3/envs/MachineLearning2/lib/python3.6/site-packages/sklearn/pipeline.py:511: DataConversionWarning: Data with input dtype int64, float64 were all converted to float64 by StandardScaler.\n  Xt \u003d transform.transform(Xt)\n/Users/davidxbuck/anaconda3/envs/MachineLearning2/lib/python3.6/site-packages/sklearn/preprocessing/data.py:645: DataConversionWarning: Data with input dtype int64, float64 were all converted to float64 by StandardScaler.\n  return self.partial_fit(X, y)\n/Users/davidxbuck/anaconda3/envs/MachineLearning2/lib/python3.6/site-packages/sklearn/base.py:467: DataConversionWarning: Data with input dtype int64, float64 were all converted to float64 by StandardScaler.\n  return self.fit(X, y, **fit_params).transform(X)\n",
            "/Users/davidxbuck/anaconda3/envs/MachineLearning2/lib/python3.6/site-packages/sklearn/pipeline.py:511: DataConversionWarning: Data with input dtype int64, float64 were all converted to float64 by StandardScaler.\n  Xt \u003d transform.transform(Xt)\n/Users/davidxbuck/anaconda3/envs/MachineLearning2/lib/python3.6/site-packages/sklearn/pipeline.py:511: DataConversionWarning: Data with input dtype int64, float64 were all converted to float64 by StandardScaler.\n  Xt \u003d transform.transform(Xt)\n/Users/davidxbuck/anaconda3/envs/MachineLearning2/lib/python3.6/site-packages/sklearn/preprocessing/data.py:645: DataConversionWarning: Data with input dtype int64, float64 were all converted to float64 by StandardScaler.\n  return self.partial_fit(X, y)\n/Users/davidxbuck/anaconda3/envs/MachineLearning2/lib/python3.6/site-packages/sklearn/base.py:467: DataConversionWarning: Data with input dtype int64, float64 were all converted to float64 by StandardScaler.\n  return self.fit(X, y, **fit_params).transform(X)\n/Users/davidxbuck/anaconda3/envs/MachineLearning2/lib/python3.6/site-packages/sklearn/pipeline.py:511: DataConversionWarning: Data with input dtype int64, float64 were all converted to float64 by StandardScaler.\n  Xt \u003d transform.transform(Xt)\n/Users/davidxbuck/anaconda3/envs/MachineLearning2/lib/python3.6/site-packages/sklearn/pipeline.py:511: DataConversionWarning: Data with input dtype int64, float64 were all converted to float64 by StandardScaler.\n  Xt \u003d transform.transform(Xt)\n/Users/davidxbuck/anaconda3/envs/MachineLearning2/lib/python3.6/site-packages/sklearn/preprocessing/data.py:645: DataConversionWarning: Data with input dtype int64, float64 were all converted to float64 by StandardScaler.\n  return self.partial_fit(X, y)\n/Users/davidxbuck/anaconda3/envs/MachineLearning2/lib/python3.6/site-packages/sklearn/base.py:467: DataConversionWarning: Data with input dtype int64, float64 were all converted to float64 by StandardScaler.\n  return self.fit(X, y, **fit_params).transform(X)\n/Users/davidxbuck/anaconda3/envs/MachineLearning2/lib/python3.6/site-packages/sklearn/pipeline.py:511: DataConversionWarning: Data with input dtype int64, float64 were all converted to float64 by StandardScaler.\n  Xt \u003d transform.transform(Xt)\n/Users/davidxbuck/anaconda3/envs/MachineLearning2/lib/python3.6/site-packages/sklearn/pipeline.py:511: DataConversionWarning: Data with input dtype int64, float64 were all converted to float64 by StandardScaler.\n  Xt \u003d transform.transform(Xt)\n/Users/davidxbuck/anaconda3/envs/MachineLearning2/lib/python3.6/site-packages/sklearn/preprocessing/data.py:645: DataConversionWarning: Data with input dtype int64, float64 were all converted to float64 by StandardScaler.\n  return self.partial_fit(X, y)\n/Users/davidxbuck/anaconda3/envs/MachineLearning2/lib/python3.6/site-packages/sklearn/base.py:467: DataConversionWarning: Data with input dtype int64, float64 were all converted to float64 by StandardScaler.\n  return self.fit(X, y, **fit_params).transform(X)\n/Users/davidxbuck/anaconda3/envs/MachineLearning2/lib/python3.6/site-packages/sklearn/pipeline.py:511: DataConversionWarning: Data with input dtype int64, float64 were all converted to float64 by StandardScaler.\n  Xt \u003d transform.transform(Xt)\n/Users/davidxbuck/anaconda3/envs/MachineLearning2/lib/python3.6/site-packages/sklearn/pipeline.py:511: DataConversionWarning: Data with input dtype int64, float64 were all converted to float64 by StandardScaler.\n  Xt \u003d transform.transform(Xt)\n",
            "/Users/davidxbuck/anaconda3/envs/MachineLearning2/lib/python3.6/site-packages/sklearn/preprocessing/data.py:645: DataConversionWarning: Data with input dtype int64, float64 were all converted to float64 by StandardScaler.\n  return self.partial_fit(X, y)\n/Users/davidxbuck/anaconda3/envs/MachineLearning2/lib/python3.6/site-packages/sklearn/base.py:467: DataConversionWarning: Data with input dtype int64, float64 were all converted to float64 by StandardScaler.\n  return self.fit(X, y, **fit_params).transform(X)\n/Users/davidxbuck/anaconda3/envs/MachineLearning2/lib/python3.6/site-packages/sklearn/pipeline.py:331: DataConversionWarning: Data with input dtype int64, float64 were all converted to float64 by StandardScaler.\n  Xt \u003d transform.transform(Xt)\n/Users/davidxbuck/anaconda3/envs/MachineLearning2/lib/python3.6/site-packages/sklearn/pipeline.py:511: DataConversionWarning: Data with input dtype int64, float64 were all converted to float64 by StandardScaler.\n  Xt \u003d transform.transform(Xt)\n"
          ],
          "output_type": "stream"
        },
        {
          "name": "stdout",
          "text": [
            "Accuracy: 0.7532467532467533\n              precision    recall  f1-score   support\n\n           0       0.75      0.90      0.82        94\n           1       0.78      0.52      0.62        60\n\n   micro avg       0.75      0.75      0.75       154\n   macro avg       0.76      0.71      0.72       154\nweighted avg       0.76      0.75      0.74       154\n\nTuned Model Parameters: {\u0027SVM__C\u0027: 1, \u0027SVM__gamma\u0027: 0.01}\n"
          ],
          "output_type": "stream"
        }
      ],
      "source": "#   Pipeline with Grid Search\n\nfrom sklearn.preprocessing import StandardScaler\nfrom sklearn.svm import SVC\nfrom sklearn.pipeline import Pipeline\nfrom sklearn.model_selection import train_test_split\n# Setup the pipeline\nsteps \u003d [(\u0027scaler\u0027, StandardScaler()),\n         (\u0027SVM\u0027, SVC())]\n\npipeline \u003d Pipeline(steps)\n\n# Specify the hyperparameter space\nparameters \u003d {\u0027SVM__C\u0027:[1, 10, 100],\n              \u0027SVM__gamma\u0027:[0.1, 0.01]}\n\n# Create train and test sets\nX_train, X_test, y_train, y_test \u003d train_test_split(X, y, test_size\u003d0.2, random_state\u003d21)\n\n# Instantiate the GridSearchCV object: cv\ncv \u003d GridSearchCV(pipeline, parameters)\n\n# Fit to the training set\ncv.fit(X_train, y_train)\n\n# Predict the labels of the test set: y_pred\ny_pred \u003d cv.predict(X_test)\n\n# Compute and print metrics\nprint(\"Accuracy: {}\".format(cv.score(X_test, y_test)))\nprint(classification_report(y_test, y_pred))\nprint(\"Tuned Model Parameters: {}\".format(cv.best_params_))\n",
      "metadata": {
        "pycharm": {
          "metadata": false,
          "name": "#%%\n",
          "is_executing": false
        }
      }
    }
  ],
  "metadata": {
    "language_info": {
      "codemirror_mode": {
        "name": "ipython",
        "version": 2
      },
      "file_extension": ".py",
      "mimetype": "text/x-python",
      "name": "python",
      "nbconvert_exporter": "python",
      "pygments_lexer": "ipython2",
      "version": "2.7.6"
    },
    "kernelspec": {
      "name": "python3",
      "language": "python",
      "display_name": "Python 3"
    }
  },
  "nbformat": 4,
  "nbformat_minor": 0
}