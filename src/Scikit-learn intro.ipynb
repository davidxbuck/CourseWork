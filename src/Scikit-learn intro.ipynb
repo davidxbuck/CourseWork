{
  "cells": [
    {
      "cell_type": "code",
      "execution_count": 23,
      "metadata": {
        "collapsed": true,
        "pycharm": {
          "is_executing": false
        }
      },
      "outputs": [],
      "source": "import matplotlib.pyplot as plt\nimport numpy as np\nimport pandas as pd\nimport seaborn as sns\nfrom sklearn import datasets\nfrom sklearn.model_selection import train_test_split\nplt.style.use(\u0027ggplot\u0027)\niris \u003d datasets.load_iris()\n"
    },
    {
      "cell_type": "code",
      "execution_count": 2,
      "metadata": {
        "collapsed": true,
        "pycharm": {
          "is_executing": false
        }
      },
      "outputs": [
        {
          "data": {
            "text/plain": "sklearn.utils.Bunch"
          },
          "metadata": {},
          "output_type": "execute_result",
          "execution_count": 2
        }
      ],
      "source": [
        "type(iris)\n"
      ]
    },
    {
      "cell_type": "code",
      "execution_count": 3,
      "metadata": {
        "pycharm": {
          "is_executing": false
        }
      },
      "outputs": [
        {
          "name": "stdout",
          "text": [
            "dict_keys([\u0027data\u0027, \u0027target\u0027, \u0027target_names\u0027, \u0027DESCR\u0027, \u0027feature_names\u0027, \u0027filename\u0027])\n"
          ],
          "output_type": "stream"
        }
      ],
      "source": [
        "print(iris.keys())"
      ]
    },
    {
      "cell_type": "code",
      "execution_count": 4,
      "metadata": {
        "pycharm": {
          "is_executing": false
        }
      },
      "outputs": [
        {
          "data": {
            "text/plain": "(numpy.ndarray, numpy.ndarray)"
          },
          "metadata": {},
          "output_type": "execute_result",
          "execution_count": 4
        }
      ],
      "source": [
        "type(iris.data), type(iris.target)"
      ]
    },
    {
      "cell_type": "code",
      "execution_count": 5,
      "metadata": {
        "pycharm": {
          "is_executing": false
        }
      },
      "outputs": [
        {
          "data": {
            "text/plain": "(150, 4)"
          },
          "metadata": {},
          "output_type": "execute_result",
          "execution_count": 5
        }
      ],
      "source": [
        "iris.data.shape"
      ]
    },
    {
      "cell_type": "code",
      "execution_count": 6,
      "metadata": {
        "pycharm": {
          "is_executing": false
        }
      },
      "outputs": [
        {
          "data": {
            "text/plain": "array([\u0027setosa\u0027, \u0027versicolor\u0027, \u0027virginica\u0027], dtype\u003d\u0027\u003cU10\u0027)"
          },
          "metadata": {},
          "output_type": "execute_result",
          "execution_count": 6
        }
      ],
      "source": [
        "iris.target_names"
      ]
    },
    {
      "cell_type": "code",
      "execution_count": 27,
      "metadata": {
        "pycharm": {
          "is_executing": false
        }
      },
      "outputs": [
        {
          "name": "stdout",
          "text": [
            "   sepal length (cm)  sepal width (cm)  petal length (cm)  petal width (cm)\n0                5.1               3.5                1.4               0.2\n1                4.9               3.0                1.4               0.2\n2                4.7               3.2                1.3               0.2\n3                4.6               3.1                1.5               0.2\n4                5.0               3.6                1.4               0.2\n"
          ],
          "output_type": "stream"
        }
      ],
      "source": "X \u003d iris.data\ny \u003d iris.target\ndf \u003d pd.DataFrame( X,   columns\u003diris.feature_names)\nprint(df.head())"
    },
    {
      "cell_type": "code",
      "execution_count": 8,
      "metadata": {
        "pycharm": {
          "is_executing": false
        }
      },
      "outputs": [
        {
          "name": "stdout",
          "text": [
            "Using matplotlib backend: Qt5Agg\n"
          ],
          "output_type": "stream"
        }
      ],
      "source": "%matplotlib\n_ \u003d pd.plotting.scatter_matrix(df, c \u003d y, figsize \u003d [8, 8], s\u003d150, marker \u003d \u0027D\u0027)\n"
    },
    {
      "cell_type": "code",
      "execution_count": 18,
      "metadata": {
        "pycharm": {
          "is_executing": false
        }
      },
      "outputs": [
        {
          "data": {
            "text/plain": "KNeighborsClassifier(algorithm\u003d\u0027auto\u0027, leaf_size\u003d30, metric\u003d\u0027minkowski\u0027,\n           metric_params\u003dNone, n_jobs\u003dNone, n_neighbors\u003d6, p\u003d2,\n           weights\u003d\u0027uniform\u0027)"
          },
          "metadata": {},
          "output_type": "execute_result",
          "execution_count": 18
        }
      ],
      "source": "from sklearn.neighbors import KNeighborsClassifier\nknn \u003d KNeighborsClassifier(n_neighbors\u003d6)\nknn.fit(X, y)"
    },
    {
      "cell_type": "code",
      "execution_count": 16,
      "metadata": {
        "pycharm": {
          "is_executing": false
        }
      },
      "outputs": [
        {
          "name": "stdout",
          "text": [
            "Prediction [0 0 0]\n"
          ],
          "output_type": "stream"
        }
      ],
      "source": [
        "X_new \u003d np.array([[5.3, 3.3, 1.7, 0.2],\n",
        "                  [6.8, 4.7, 2.8, 0.8],\n",
        "                  [4.7, 3.2, 1.3, 0.1]])\n",
        "prediction \u003d knn.predict(X_new)\n",
        "print(\"Prediction {}\".format(prediction))\n"
      ]
    },
    {
      "cell_type": "code",
      "execution_count": 17,
      "metadata": {
        "pycharm": {
          "is_executing": false
        }
      },
      "outputs": [
        {
          "name": "stdout",
          "text": [
            "Test set predictions:\n [2 1 2 2 1 0 1 0 0 1 0 2 0 2 2 0 0 0 1 0 2 2 2 0 1 1 1 0 0 1 2 2 0 0 1 2 2\n 1 1 2 1 1 0 2 1]\n"
          ],
          "output_type": "stream"
        },
        {
          "data": {
            "text/plain": "0.9555555555555556"
          },
          "metadata": {},
          "output_type": "execute_result",
          "execution_count": 17
        }
      ],
      "source": [
        "X_train, X_test, y_train, y_test\u003dtrain_test_split(X, y, test_size\u003d0.3, random_state\u003d21, stratify\u003dy)\n",
        "knn \u003d KNeighborsClassifier(n_neighbors\u003d8)\n",
        "knn.fit(X_train, y_train)\n",
        "y_pred \u003d knn.predict(X_test)\n",
        "print(\"Test set predictions:\\n {}\".format(y_pred))\n",
        "knn.score(X_test, y_test)"
      ]
    },
    {
      "cell_type": "code",
      "execution_count": 18,
      "metadata": {
        "pycharm": {
          "is_executing": false
        }
      },
      "outputs": [
        {
          "name": "stdout",
          "text": [
            "dict_keys([\u0027data\u0027, \u0027target\u0027, \u0027target_names\u0027, \u0027images\u0027, \u0027DESCR\u0027])\n.. _digits_dataset:\n\nOptical recognition of handwritten digits dataset\n--------------------------------------------------\n\n**Data Set Characteristics:**\n\n    :Number of Instances: 5620\n    :Number of Attributes: 64\n    :Attribute Information: 8x8 image of integer pixels in the range 0..16.\n    :Missing Attribute Values: None\n    :Creator: E. Alpaydin (alpaydin \u0027@\u0027 boun.edu.tr)\n    :Date: July; 1998\n\nThis is a copy of the test set of the UCI ML hand-written digits datasets\nhttp://archive.ics.uci.edu/ml/datasets/Optical+Recognition+of+Handwritten+Digits\n\nThe data set contains images of hand-written digits: 10 classes where\neach class refers to a digit.\n\nPreprocessing programs made available by NIST were used to extract\nnormalized bitmaps of handwritten digits from a preprinted form. From a\ntotal of 43 people, 30 contributed to the training set and different 13\nto the test set. 32x32 bitmaps are divided into nonoverlapping blocks of\n4x4 and the number of on pixels are counted in each block. This generates\nan input matrix of 8x8 where each element is an integer in the range\n0..16. This reduces dimensionality and gives invariance to small\ndistortions.\n\nFor info on NIST preprocessing routines, see M. D. Garris, J. L. Blue, G.\nT. Candela, D. L. Dimmick, J. Geist, P. J. Grother, S. A. Janet, and C.\nL. Wilson, NIST Form-Based Handprint Recognition System, NISTIR 5469,\n1994.\n\n.. topic:: References\n\n  - C. Kaynak (1995) Methods of Combining Multiple Classifiers and Their\n    Applications to Handwritten Digit Recognition, MSc Thesis, Institute of\n    Graduate Studies in Science and Engineering, Bogazici University.\n  - E. Alpaydin, C. Kaynak (1998) Cascading Classifiers, Kybernetika.\n  - Ken Tang and Ponnuthurai N. Suganthan and Xi Yao and A. Kai Qin.\n    Linear dimensionalityreduction using relevance weighted LDA. School of\n    Electrical and Electronic Engineering Nanyang Technological University.\n    2005.\n  - Claudio Gentile. A New Approximate Maximal Margin Classification\n    Algorithm. NIPS. 2000.\n(1797, 8, 8)\n(1797, 64)\n"
          ],
          "output_type": "stream"
        }
      ],
      "source": [
        "digits \u003d datasets.load_digits()\n",
        "\n",
        "# Print the keys and DESCR of the dataset\n",
        "print(digits.keys())\n",
        "print(digits.DESCR)\n",
        "\n",
        "# Print the shape of the images and data keys\n",
        "print(digits.images.shape)\n",
        "print(digits.data.shape)\n",
        "\n",
        "# Display digit 1010\n",
        "plt.imshow(digits.images[1010], cmap\u003dplt.cm.gray_r, interpolation\u003d\u0027nearest\u0027)\n",
        "plt.show()"
      ]
    },
    {
      "cell_type": "code",
      "execution_count": 13,
      "metadata": {
        "pycharm": {}
      },
      "outputs": [
        {
          "name": "stdout",
          "output_type": "stream",
          "text": [
            "0.9833333333333333\n"
          ]
        }
      ],
      "source": [
        "# Create feature and target arrays\n",
        "X \u003d digits.data\n",
        "y \u003d digits.target\n",
        "\n",
        "# Split into training and test set\n",
        "X_train, X_test, y_train, y_test \u003d train_test_split(X, y, test_size \u003d 0.2, random_state\u003d42, stratify\u003dy)\n",
        "\n",
        "# Create a k-NN classifier with 7 neighbors: knn\n",
        "knn \u003d KNeighborsClassifier(n_neighbors \u003d 7)\n",
        "\n",
        "# Fit the classifier to the training data\n",
        "knn.fit(X_train, y_train)\n",
        "\n",
        "# Print the accuracy\n",
        "print(knn.score(X_test, y_test))"
      ]
    },
    {
      "cell_type": "code",
      "execution_count": 15,
      "metadata": {
        "pycharm": {}
      },
      "outputs": [],
      "source": "# Setup arrays to store train and test accuracies\nneighbors \u003d np.arange(1, 9)\ntrain_accuracy \u003d np.empty(len(neighbors))\ntest_accuracy \u003d np.empty(len(neighbors))\n\n# Loop over different values of k\nfor i, k in enumerate(neighbors):\n    # Setup a k-NN Classifier with k neighbors: knn\n    knn \u003d KNeighborsClassifier(n_neighbors\u003dk)\n\n    # Fit the classifier to the training data\n    knn.fit(X_train, y_train)\n    \n    #Compute accuracy on the training set\n    train_accuracy[i] \u003d knn.score(X_train, y_train)\n\n    #Compute accuracy on the testing set\n    test_accuracy[i] \u003d knn.score(X_test, y_test)\n\n# Generate plot\nplt.title(\u0027k-NN: Varying Number of Neighbors\u0027)\nplt.plot(neighbors, test_accuracy, label \u003d \u0027Testing Accuracy\u0027)\nplt.plot(neighbors, train_accuracy, label \u003d \u0027Training Accuracy\u0027)\nplt.legend()\nplt.xlabel(\u0027Number of Neighbors\u0027)\nplt.ylabel(\u0027Accuracy\u0027)\nplt.show()\n\n\n"
    },
    {
      "cell_type": "code",
      "execution_count": null,
      "outputs": [],
      "source": "import mglearn\nfrom sklearn.datasets import load_boston\nboston \u003d load_boston()\nprint(\"Data shape:\", boston.data.shape)\n\nX, y \u003d mglearn.datasets.load_extended_boston()\nprint(\"X.shape:\", X.shape)\n\nfrom sklearn.model_selection import train_test_split\nX, y \u003d mglearn.datasets.make_forge()\n\nX_train, X_test, y_train, y_test \u003d train_test_split(X, y, random_state\u003d0)\n\n\nfrom sklearn.neighbors import KNeighborsClassifier\n\nfig, axes \u003d plt.subplots(1, 3, figsize\u003d(10, 3))\nfor n_neighbors, ax in zip([1, 3, 9], axes):\n    # the fit method returns the object self, so we can instantiate \n    # and fit in one line \n    clf \u003d KNeighborsClassifier(n_neighbors\u003dn_neighbors).fit(X, y)\n    mglearn.plots.plot_2d_separator(clf, X, fill\u003dTrue, eps\u003d0.5, ax\u003dax, alpha\u003d.4 )\n    mglearn.discrete_scatter(X[:, 0], X[:, 1], y, ax\u003dax)\n    ax.set_title(\"{} neighbor(s)\".format(n_neighbors))\n    ax.set_xlabel(\"feature 0\")\n    ax.set_ylabel(\"feature 1\")\n    axes[0].legend(loc\u003d3)\n",
      "metadata": {
        "pycharm": {
          "metadata": false,
          "name": "#%%\n"
        }
      }
    },
    {
      "cell_type": "code",
      "execution_count": null,
      "outputs": [],
      "source": "import pandas as pd\n\nnamelist \u003d [\n    \u0027party\u0027,\n    \u0027infants\u0027,\n    \u0027water\u0027,\n    \u0027budget\u0027,\n    \u0027physician\u0027,\n    \u0027salvador\u0027,\n    \u0027religious\u0027,\n    \u0027satellite\u0027,\n    \u0027aid\u0027,\n    \u0027missile\u0027,\n    \u0027immigration\u0027,\n    \u0027synfuels\u0027,\n    \u0027education\u0027,\n    \u0027superfund\u0027,\n    \u0027crime\u0027,\n    \u0027duty-free-exports\u0027,\n    \u0027eaa-rsa\u0027,]\n\npartylist \u003d pd.read_csv(\u0027https://archive.ics.uci.edu/ml/machine-learning-databases/voting-records/house-votes-84.data\u0027, names\u003dnamelist, delimiter\u003d\u0027,\u0027)\npartylist \u003d partylist.replace({\u0027n\u0027: 0, \u0027y\u0027: 1, \u0027?\u0027:0}, None)\nprint(partylist.head())\n",
      "metadata": {
        "pycharm": {
          "metadata": false,
          "name": "#%%\n"
        }
      }
    },
    {
      "cell_type": "code",
      "execution_count": 41,
      "outputs": [],
      "source": "plt.figure()\nsns.countplot(x\u003d\u0027education\u0027, hue\u003d\u0027party\u0027, data\u003dpartylist, palette\u003d\u0027RdBu\u0027)\nplt.xticks([0, 1], [\u0027No\u0027, \u0027Yes\u0027])\nplt.show()\n\n\n",
      "metadata": {
        "pycharm": {
          "metadata": false,
          "name": "#%%\n",
          "is_executing": false
        }
      }
    }
  ],
  "metadata": {
    "kernelspec": {
      "name": "python3",
      "language": "python",
      "display_name": "Python 3"
    },
    "language_info": {
      "codemirror_mode": {
        "name": "ipython",
        "version": 2
      },
      "file_extension": ".py",
      "mimetype": "text/x-python",
      "name": "python",
      "nbconvert_exporter": "python",
      "pygments_lexer": "ipython2",
      "version": "2.7.6"
    }
  },
  "nbformat": 4,
  "nbformat_minor": 0
}