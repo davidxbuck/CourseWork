{
  "cells": [
    {
      "cell_type": "code",
      "execution_count": 2,
      "metadata": {
        "collapsed": true,
        "pycharm": {
          "is_executing": false
        }
      },
      "outputs": [
        {
          "name": "stdout",
          "text": [
            "./inputs/test.txt\nr\n"
          ],
          "output_type": "stream"
        }
      ],
      "source": "\n#File Objects\n\n##The Basics:\nf \u003d open(\"./input/test.txt\", \"r\")\n#f \u003d open(\"test.txt\", \"w\")\n#f \u003d open(\"test.txt\", \"a\")\n#f \u003d open(\"test.txt\", \"r+\")\nprint(f.name)\nprint(f.mode)\nf.close()\n"
    },
    {
      "cell_type": "code",
      "execution_count": 9,
      "outputs": [
        {
          "name": "stdout",
          "text": [
            "1) This is a test file\n2) With multiple lines of data...\n3) Third line\n4) Fourth line\n5) Fifth line\n6) Sixth line\n7) Seventh line\n8) Eighth line\n9) Ninth line\n10) Tenth line\nFalse\nTrue\n"
          ],
          "output_type": "stream"
        }
      ],
      "source": "#\n# Opening file with context means files will be automatically closed after use\n#\n##Reading Files:\nwith open(\"./input/test.txt\", \"r\") as f:\n\n\t##Small Files:\n    f_contents \u003d f.read() # entire contents of file\n    print(f_contents)\n    print(f.closed)\nprint(f.closed)\n",
      "metadata": {
        "pycharm": {
          "metadata": false,
          "name": "#%%\n",
          "is_executing": false
        }
      }
    },
    {
      "cell_type": "code",
      "execution_count": 17,
      "outputs": [
        {
          "traceback": [
            "\u001b[0;31m---------------------------------------------------------------------------\u001b[0m",
            "\u001b[0;31mAttributeError\u001b[0m                            Traceback (most recent call last)",
            "\u001b[0;32m\u003cipython-input-17-8bdc5ffd275a\u003e\u001b[0m in \u001b[0;36m\u003cmodule\u003e\u001b[0;34m\u001b[0m\n\u001b[1;32m      1\u001b[0m \u001b[0;32mwith\u001b[0m \u001b[0mopen\u001b[0m\u001b[0;34m(\u001b[0m\u001b[0;34m\"./inputs/test.txt\"\u001b[0m\u001b[0;34m,\u001b[0m \u001b[0;34m\"r\"\u001b[0m\u001b[0;34m)\u001b[0m \u001b[0;32mas\u001b[0m \u001b[0mf\u001b[0m\u001b[0;34m:\u001b[0m\u001b[0;34m\u001b[0m\u001b[0;34m\u001b[0m\u001b[0m\n\u001b[1;32m      2\u001b[0m         \u001b[0;31m##Big Files:\u001b[0m\u001b[0;34m\u001b[0m\u001b[0;34m\u001b[0m\u001b[0;34m\u001b[0m\u001b[0m\n\u001b[0;32m----\u003e 3\u001b[0;31m     \u001b[0mf_contents\u001b[0m \u001b[0;34m\u003d\u001b[0m \u001b[0mf\u001b[0m\u001b[0;34m.\u001b[0m\u001b[0mreadlines\u001b[0m\u001b[0;34m(\u001b[0m\u001b[0;34m)\u001b[0m\u001b[0;34m.\u001b[0m\u001b[0mstrip\u001b[0m\u001b[0;34m(\u001b[0m\u001b[0;34m)\u001b[0m\u001b[0;34m\u001b[0m\u001b[0;34m\u001b[0m\u001b[0m\n\u001b[0m\u001b[1;32m      4\u001b[0m     \u001b[0mprint\u001b[0m\u001b[0;34m(\u001b[0m\u001b[0mf_contents\u001b[0m\u001b[0;34m)\u001b[0m\u001b[0;34m\u001b[0m\u001b[0;34m\u001b[0m\u001b[0m\n\u001b[1;32m      5\u001b[0m     \u001b[0mprint\u001b[0m\u001b[0;34m(\u001b[0m\u001b[0mf_contents\u001b[0m\u001b[0;34m)\u001b[0m\u001b[0;34m\u001b[0m\u001b[0;34m\u001b[0m\u001b[0m\n",
            "\u001b[0;31mAttributeError\u001b[0m: \u0027list\u0027 object has no attribute \u0027strip\u0027"
          ],
          "ename": "AttributeError",
          "evalue": "\u0027list\u0027 object has no attribute \u0027strip\u0027",
          "output_type": "error"
        }
      ],
      "source": "with open(\"./input/test.txt\", \"r\") as f:\n\t##Big Files:\n    f_contents \u003d f.readlines()\n    print(f_contents)\n",
      "metadata": {
        "pycharm": {
          "metadata": false,
          "name": "#%%\n",
          "is_executing": false
        }
      }
    },
    {
      "cell_type": "code",
      "execution_count": 18,
      "outputs": [
        {
          "name": "stdout",
          "text": [
            "1) This is a test file\n\n2) With multiple lines of data...\n\n"
          ],
          "output_type": "stream"
        }
      ],
      "source": "with open(\"./input/test.txt\", \"r\") as f:\n    ###With the extra lines:\n\tf_contents \u003d f.readline()\n\tprint(f_contents)\n\tf_contents \u003d f.readline()\n\tprint(f_contents)\n",
      "metadata": {
        "pycharm": {
          "metadata": false,
          "name": "#%%\n",
          "is_executing": false
        }
      }
    },
    {
      "cell_type": "code",
      "execution_count": 19,
      "outputs": [
        {
          "name": "stdout",
          "text": [
            "1) This is a test file\n2) With multiple lines of data...\n"
          ],
          "output_type": "stream"
        }
      ],
      "source": "with open(\"./input/test.txt\", \"r\") as f:\n\t###Without the extra lines:\n\tf_contents \u003d f.readline()\n\tprint(f_contents, end \u003d \u0027\u0027)\n\tf_contents \u003d f.readline()\n\tprint(f_contents, end \u003d \u0027\u0027)\n",
      "metadata": {
        "pycharm": {
          "metadata": false,
          "name": "#%%\n",
          "is_executing": false
        }
      }
    },
    {
      "cell_type": "code",
      "execution_count": 21,
      "outputs": [
        {
          "name": "stdout",
          "text": [
            "1) This is a test file\n2) With multiple lines of data...\n3) Third line\n4) Fourth line\n5) Fifth line\n6) Sixth line\n7) Seventh line\n8) Eighth line\n9) Ninth line\n10) Tenth line"
          ],
          "output_type": "stream"
        }
      ],
      "source": "with open(\"./input/test.txt\", \"r\") as f:\n\t###Iterating through the file:\n\tfor line in f:\n\t\tprint(line, end \u003d \u0027\u0027)\n",
      "metadata": {
        "pycharm": {
          "metadata": false,
          "name": "#%%\n",
          "is_executing": false
        }
      }
    },
    {
      "cell_type": "code",
      "execution_count": 22,
      "outputs": [
        {
          "name": "stdout",
          "text": [
            "1) This is a test file\n2) With multiple lines of data...\n3) Third line\n4) Fourth line\n5) Fifth line\n6) Sixth line\n7) Seventh line\n8) Eighth line\n9) Ninth line\n10) Tenth line"
          ],
          "output_type": "stream"
        }
      ],
      "source": "with open(\"./input/test.txt\", \"r\") as f:\n\t###Going Back....:\n\tf_contents \u003d f.read()\n\tprint(f_contents, end \u003d \u0027\u0027)\n",
      "metadata": {
        "pycharm": {
          "metadata": false,
          "name": "#%%\n",
          "is_executing": false
        }
      }
    },
    {
      "cell_type": "code",
      "execution_count": 24,
      "outputs": [
        {
          "name": "stdout",
          "text": [
            "1) This is a test file\n2) With multiple lines of data...\n3) Third line\n4) Fourth line\n5) Fifth line\n"
          ],
          "output_type": "stream"
        }
      ],
      "source": "with open(\"./input/test.txt\", \"r\") as f:\n\t###Printing by characters:\n\tf_contents \u003d f.read(100)\n\tprint(f_contents, end \u003d \u0027\u0027)\n\t# f_contents \u003d f.read(100)\n\t# print(f_contents, end \u003d \u0027\u0027)\n\t# f_contents \u003d f.read(100)\n\t# print(f_contents, end \u003d \u0027\u0027)\n",
      "metadata": {
        "pycharm": {
          "metadata": false,
          "name": "#%%\n",
          "is_executing": false
        }
      }
    },
    {
      "cell_type": "code",
      "execution_count": 26,
      "outputs": [
        {
          "name": "stdout",
          "text": [
            "1) This is a test file\n2) With multiple lines of data...\n3) Third line\n4) Fourth line\n5) Fifth line\n\n6) Sixth line\n7) Seventh line\n8) Eighth line\n9) Ninth line\n10) Tenth line\n"
          ],
          "output_type": "stream"
        }
      ],
      "source": "with open(\"./input/test.txt\", \"r\") as f:\n\t###Iterating through small chunks:\n\tsize_to_read \u003d 100\n\tf_contents \u003d f.read(size_to_read)\n\twhile len(f_contents) \u003e 0:\n\t\tprint(f_contents)\n\t\tf_contents \u003d f.read(size_to_read)\n",
      "metadata": {
        "pycharm": {
          "metadata": false,
          "name": "#%%\n",
          "is_executing": false
        }
      }
    },
    {
      "cell_type": "code",
      "execution_count": 36,
      "outputs": [
        {
          "name": "stdout",
          "text": [
            "1) This is1) This is10\n1) This is* a test fi*le\n2) With* multiple *lines of d*ata...\n3) *Third line*\n4) Fourth* line\n5) F*ifth line\n*6) Sixth l*ine\n7) Sev*enth line\n*8) Eighth *line\n9) Ni*nth line\n1*0) Tenth l*ine*\n\nFalse\nr\nTrue\nr\n"
          ],
          "output_type": "stream"
        }
      ],
      "source": "with open(\"./input/test.txt\", \"r\") as f:\n    ###Iterating through small chunks, with 10 characters:\n    size_to_read \u003d 10\n    f_contents \u003d f.read(size_to_read)\n    print(f_contents, end \u003d \u0027\u0027)\n    f.seek(0)                          # resets position to the start of the file\n    f_contents \u003d f.read(size_to_read)\n    print(f_contents, end \u003d \u0027\u0027)\n    print(f.tell())                    # returns current position\n    while len(f_contents) \u003e 0:\n        print(f_contents, end \u003d \u0027*\u0027)\n        f_contents \u003d f.read(size_to_read)\n    print(\u0027\\n\u0027)\n    print(f.closed)\n    print(f.mode)\nprint(f.closed)\nprint(f.mode)\n\n# print(f.read()) # will fail as file is closed\n",
      "metadata": {
        "pycharm": {
          "metadata": false,
          "name": "#%%\n",
          "is_executing": false
        }
      }
    },
    {
      "cell_type": "code",
      "execution_count": 46,
      "outputs": [
        {
          "traceback": [
            "\u001b[0;31m---------------------------------------------------------------------------\u001b[0m",
            "\u001b[0;31mUnsupportedOperation\u001b[0m                      Traceback (most recent call last)",
            "\u001b[0;32m\u003cipython-input-46-9d916774abea\u003e\u001b[0m in \u001b[0;36m\u003cmodule\u003e\u001b[0;34m\u001b[0m\n\u001b[1;32m      2\u001b[0m \u001b[0;31m###The Error:\u001b[0m\u001b[0;34m\u001b[0m\u001b[0;34m\u001b[0m\u001b[0;34m\u001b[0m\u001b[0m\n\u001b[1;32m      3\u001b[0m \u001b[0;32mwith\u001b[0m \u001b[0mopen\u001b[0m\u001b[0;34m(\u001b[0m\u001b[0;34m\"./output/test2.txt\"\u001b[0m\u001b[0;34m,\u001b[0m \u001b[0;34m\"r\"\u001b[0m\u001b[0;34m)\u001b[0m \u001b[0;32mas\u001b[0m \u001b[0mf\u001b[0m\u001b[0;34m:\u001b[0m \u001b[0;31m# fail as file not exist. Should be w or a\u001b[0m\u001b[0;34m\u001b[0m\u001b[0;34m\u001b[0m\u001b[0m\n\u001b[0;32m----\u003e 4\u001b[0;31m     \u001b[0mf\u001b[0m\u001b[0;34m.\u001b[0m\u001b[0mwrite\u001b[0m\u001b[0;34m(\u001b[0m\u001b[0;34m\"Test\"\u001b[0m\u001b[0;34m)\u001b[0m\u001b[0;34m\u001b[0m\u001b[0;34m\u001b[0m\u001b[0m\n\u001b[0m\u001b[1;32m      5\u001b[0m \u001b[0;34m\u001b[0m\u001b[0m\n",
            "\u001b[0;31mUnsupportedOperation\u001b[0m: not writable"
          ],
          "ename": "UnsupportedOperation",
          "evalue": "not writable",
          "output_type": "error"
        }
      ],
      "source": "##Writing Files:\n###The Error:\nwith open(\"./output/test2.txt\", \"r\") as f: # fail as file not exist. Should be w or a\n    f.write(\"Test\")\n",
      "metadata": {
        "pycharm": {
          "metadata": false,
          "name": "#%%\n",
          "is_executing": false
        }
      }
    },
    {
      "cell_type": "code",
      "execution_count": 47,
      "outputs": [],
      "source": "\n###Writing Starts:\nwith open(\"./output/test2.txt\", \"w\") as f:\n\t#pass\n\tf.write(\"Test\")\n\tf.seek(0)\n\tf.write(\"R\")  # will overwrite the character at position 0\n",
      "metadata": {
        "pycharm": {
          "metadata": false,
          "name": "#%%\n",
          "is_executing": false
        }
      }
    },
    {
      "cell_type": "code",
      "execution_count": 43,
      "outputs": [],
      "source": "##Copying Files:\nwith open(\"./input/test.txt\", \"r\") as rf:\n    with open(\"test_copy.txt\", \"w\") as wf:\n        for line in rf:\n            wf.write(line)\n",
      "metadata": {
        "pycharm": {
          "metadata": false,
          "name": "#%%\n",
          "is_executing": false
        }
      }
    },
    {
      "cell_type": "code",
      "execution_count": 49,
      "outputs": [
        {
          "traceback": [
            "\u001b[0;31m---------------------------------------------------------------------------\u001b[0m",
            "\u001b[0;31mUnicodeDecodeError\u001b[0m                        Traceback (most recent call last)",
            "\u001b[0;32m\u003cipython-input-49-3810ccbbc437\u003e\u001b[0m in \u001b[0;36m\u003cmodule\u003e\u001b[0;34m\u001b[0m\n\u001b[1;32m      3\u001b[0m \u001b[0;32mwith\u001b[0m \u001b[0mopen\u001b[0m\u001b[0;34m(\u001b[0m\u001b[0;34m\"./input/redpanda.jpg\"\u001b[0m\u001b[0;34m,\u001b[0m \u001b[0;34m\"r\"\u001b[0m\u001b[0;34m)\u001b[0m \u001b[0;32mas\u001b[0m \u001b[0mrf\u001b[0m\u001b[0;34m:\u001b[0m\u001b[0;34m\u001b[0m\u001b[0;34m\u001b[0m\u001b[0m\n\u001b[1;32m      4\u001b[0m         \u001b[0;32mwith\u001b[0m \u001b[0mopen\u001b[0m\u001b[0;34m(\u001b[0m\u001b[0;34m\"./output/redpanda_copy.jpg\"\u001b[0m\u001b[0;34m,\u001b[0m \u001b[0;34m\"w\"\u001b[0m\u001b[0;34m)\u001b[0m \u001b[0;32mas\u001b[0m \u001b[0mwf\u001b[0m\u001b[0;34m:\u001b[0m\u001b[0;34m\u001b[0m\u001b[0;34m\u001b[0m\u001b[0m\n\u001b[0;32m----\u003e 5\u001b[0;31m                 \u001b[0;32mfor\u001b[0m \u001b[0mline\u001b[0m \u001b[0;32min\u001b[0m \u001b[0mrf\u001b[0m\u001b[0;34m:\u001b[0m\u001b[0;34m\u001b[0m\u001b[0;34m\u001b[0m\u001b[0m\n\u001b[0m\u001b[1;32m      6\u001b[0m                         \u001b[0mwf\u001b[0m\u001b[0;34m.\u001b[0m\u001b[0mwrite\u001b[0m\u001b[0;34m(\u001b[0m\u001b[0mline\u001b[0m\u001b[0;34m)\u001b[0m\u001b[0;34m\u001b[0m\u001b[0;34m\u001b[0m\u001b[0m\n\u001b[1;32m      7\u001b[0m \u001b[0;34m\u001b[0m\u001b[0m\n",
            "\u001b[0;32m~/anaconda3/envs/MachineLearning2/lib/python3.6/codecs.py\u001b[0m in \u001b[0;36mdecode\u001b[0;34m(self, input, final)\u001b[0m\n\u001b[1;32m    319\u001b[0m         \u001b[0;31m# decode input (taking the buffer into account)\u001b[0m\u001b[0;34m\u001b[0m\u001b[0;34m\u001b[0m\u001b[0;34m\u001b[0m\u001b[0m\n\u001b[1;32m    320\u001b[0m         \u001b[0mdata\u001b[0m \u001b[0;34m\u003d\u001b[0m \u001b[0mself\u001b[0m\u001b[0;34m.\u001b[0m\u001b[0mbuffer\u001b[0m \u001b[0;34m+\u001b[0m \u001b[0minput\u001b[0m\u001b[0;34m\u001b[0m\u001b[0;34m\u001b[0m\u001b[0m\n\u001b[0;32m--\u003e 321\u001b[0;31m         \u001b[0;34m(\u001b[0m\u001b[0mresult\u001b[0m\u001b[0;34m,\u001b[0m \u001b[0mconsumed\u001b[0m\u001b[0;34m)\u001b[0m \u001b[0;34m\u003d\u001b[0m \u001b[0mself\u001b[0m\u001b[0;34m.\u001b[0m\u001b[0m_buffer_decode\u001b[0m\u001b[0;34m(\u001b[0m\u001b[0mdata\u001b[0m\u001b[0;34m,\u001b[0m \u001b[0mself\u001b[0m\u001b[0;34m.\u001b[0m\u001b[0merrors\u001b[0m\u001b[0;34m,\u001b[0m \u001b[0mfinal\u001b[0m\u001b[0;34m)\u001b[0m\u001b[0;34m\u001b[0m\u001b[0;34m\u001b[0m\u001b[0m\n\u001b[0m\u001b[1;32m    322\u001b[0m         \u001b[0;31m# keep undecoded input until the next call\u001b[0m\u001b[0;34m\u001b[0m\u001b[0;34m\u001b[0m\u001b[0;34m\u001b[0m\u001b[0m\n\u001b[1;32m    323\u001b[0m         \u001b[0mself\u001b[0m\u001b[0;34m.\u001b[0m\u001b[0mbuffer\u001b[0m \u001b[0;34m\u003d\u001b[0m \u001b[0mdata\u001b[0m\u001b[0;34m[\u001b[0m\u001b[0mconsumed\u001b[0m\u001b[0;34m:\u001b[0m\u001b[0;34m]\u001b[0m\u001b[0;34m\u001b[0m\u001b[0;34m\u001b[0m\u001b[0m\n",
            "\u001b[0;31mUnicodeDecodeError\u001b[0m: \u0027utf-8\u0027 codec can\u0027t decode byte 0xff in position 0: invalid start byte"
          ],
          "ename": "UnicodeDecodeError",
          "evalue": "\u0027utf-8\u0027 codec can\u0027t decode byte 0xff in position 0: invalid start byte",
          "output_type": "error"
        }
      ],
      "source": "#Copying the/your image:\n###The Error - can\u0027t open jpeg in utf-8 mode\nwith open(\"./input/redpanda.jpg\", \"r\") as rf:\n\twith open(\"./output/redpanda_copy.jpg\", \"w\") as wf:\n\t\tfor line in rf:\n\t\t\twf.write(line)\n",
      "metadata": {
        "pycharm": {
          "metadata": false,
          "name": "#%%\n",
          "is_executing": false
        }
      }
    },
    {
      "cell_type": "code",
      "execution_count": 50,
      "outputs": [],
      "source": "###Copying the image starts, without chunks:\nwith open(\"./input/redpanda.jpg\", \"rb\") as rf: # rb - binary\n\twith open(\"./output/redpanda_copy.jpg\", \"wb\") as wf: # wb\n\t\tfor line in rf:\n\t\t\twf.write(line)\n",
      "metadata": {
        "pycharm": {
          "metadata": false,
          "name": "#%%\n",
          "is_executing": false
        }
      }
    },
    {
      "cell_type": "code",
      "execution_count": null,
      "outputs": [],
      "source": "###Copying the image with chunks:\nwith open(\"./input/redpanda.jpg\", \"rb\") as rf:\n\twith open(\"./output/redpanda_copy.jpg\", \"wb\") as wf:\n\t\tchunk_size \u003d 4096\n        rf_chunk \u003d rf.read(chunk_size)\n        while len(rf_chunk) \u003e 0:\n            wf.write(rf_chunk)\n            rf_chunk \u003d rf.read(chunk_size)",
      "metadata": {
        "pycharm": {
          "metadata": false,
          "name": "#%%\n"
        }
      }
    }
  ],
  "metadata": {
    "language_info": {
      "codemirror_mode": {
        "name": "ipython",
        "version": 2
      },
      "file_extension": ".py",
      "mimetype": "text/x-python",
      "name": "python",
      "nbconvert_exporter": "python",
      "pygments_lexer": "ipython2",
      "version": "2.7.6"
    },
    "kernelspec": {
      "name": "python3",
      "language": "python",
      "display_name": "Python 3"
    }
  },
  "nbformat": 4,
  "nbformat_minor": 0
}