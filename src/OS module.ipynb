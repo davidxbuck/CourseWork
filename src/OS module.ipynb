{
  "cells": [
    {
      "cell_type": "code",
      "execution_count": 28,
      "metadata": {
        "collapsed": true,
        "pycharm": {
          "is_executing": false
        }
      },
      "outputs": [
        {
          "data": {
            "text/plain": "[\u0027CLD_CONTINUED\u0027,\n \u0027CLD_DUMPED\u0027,\n \u0027CLD_EXITED\u0027,\n \u0027CLD_TRAPPED\u0027,\n \u0027DirEntry\u0027,\n \u0027EX_CANTCREAT\u0027,\n \u0027EX_CONFIG\u0027,\n \u0027EX_DATAERR\u0027,\n \u0027EX_IOERR\u0027,\n \u0027EX_NOHOST\u0027,\n \u0027EX_NOINPUT\u0027,\n \u0027EX_NOPERM\u0027,\n \u0027EX_NOUSER\u0027,\n \u0027EX_OK\u0027,\n \u0027EX_OSERR\u0027,\n \u0027EX_OSFILE\u0027,\n \u0027EX_PROTOCOL\u0027,\n \u0027EX_SOFTWARE\u0027,\n \u0027EX_TEMPFAIL\u0027,\n \u0027EX_UNAVAILABLE\u0027,\n \u0027EX_USAGE\u0027,\n \u0027F_LOCK\u0027,\n \u0027F_OK\u0027,\n \u0027F_TEST\u0027,\n \u0027F_TLOCK\u0027,\n \u0027F_ULOCK\u0027,\n \u0027MutableMapping\u0027,\n \u0027NGROUPS_MAX\u0027,\n \u0027O_ACCMODE\u0027,\n \u0027O_APPEND\u0027,\n \u0027O_ASYNC\u0027,\n \u0027O_CLOEXEC\u0027,\n \u0027O_CREAT\u0027,\n \u0027O_DIRECTORY\u0027,\n \u0027O_DSYNC\u0027,\n \u0027O_EXCL\u0027,\n \u0027O_EXLOCK\u0027,\n \u0027O_NDELAY\u0027,\n \u0027O_NOCTTY\u0027,\n \u0027O_NOFOLLOW\u0027,\n \u0027O_NONBLOCK\u0027,\n \u0027O_RDONLY\u0027,\n \u0027O_RDWR\u0027,\n \u0027O_SHLOCK\u0027,\n \u0027O_SYNC\u0027,\n \u0027O_TRUNC\u0027,\n \u0027O_WRONLY\u0027,\n \u0027PRIO_PGRP\u0027,\n \u0027PRIO_PROCESS\u0027,\n \u0027PRIO_USER\u0027,\n \u0027P_ALL\u0027,\n \u0027P_NOWAIT\u0027,\n \u0027P_NOWAITO\u0027,\n \u0027P_PGID\u0027,\n \u0027P_PID\u0027,\n \u0027P_WAIT\u0027,\n \u0027PathLike\u0027,\n \u0027RTLD_GLOBAL\u0027,\n \u0027RTLD_LAZY\u0027,\n \u0027RTLD_LOCAL\u0027,\n \u0027RTLD_NODELETE\u0027,\n \u0027RTLD_NOLOAD\u0027,\n \u0027RTLD_NOW\u0027,\n \u0027R_OK\u0027,\n \u0027SCHED_FIFO\u0027,\n \u0027SCHED_OTHER\u0027,\n \u0027SCHED_RR\u0027,\n \u0027SEEK_CUR\u0027,\n \u0027SEEK_END\u0027,\n \u0027SEEK_SET\u0027,\n \u0027ST_NOSUID\u0027,\n \u0027ST_RDONLY\u0027,\n \u0027TMP_MAX\u0027,\n \u0027WCONTINUED\u0027,\n \u0027WCOREDUMP\u0027,\n \u0027WEXITED\u0027,\n \u0027WEXITSTATUS\u0027,\n \u0027WIFCONTINUED\u0027,\n \u0027WIFEXITED\u0027,\n \u0027WIFSIGNALED\u0027,\n \u0027WIFSTOPPED\u0027,\n \u0027WNOHANG\u0027,\n \u0027WNOWAIT\u0027,\n \u0027WSTOPPED\u0027,\n \u0027WSTOPSIG\u0027,\n \u0027WTERMSIG\u0027,\n \u0027WUNTRACED\u0027,\n \u0027W_OK\u0027,\n \u0027X_OK\u0027,\n \u0027_Environ\u0027,\n \u0027__all__\u0027,\n \u0027__builtins__\u0027,\n \u0027__cached__\u0027,\n \u0027__doc__\u0027,\n \u0027__file__\u0027,\n \u0027__loader__\u0027,\n \u0027__name__\u0027,\n \u0027__package__\u0027,\n \u0027__spec__\u0027,\n \u0027_execvpe\u0027,\n \u0027_exists\u0027,\n \u0027_exit\u0027,\n \u0027_fspath\u0027,\n \u0027_get_exports_list\u0027,\n \u0027_putenv\u0027,\n \u0027_spawnvef\u0027,\n \u0027_unsetenv\u0027,\n \u0027_wrap_close\u0027,\n \u0027abc\u0027,\n \u0027abort\u0027,\n \u0027access\u0027,\n \u0027altsep\u0027,\n \u0027chdir\u0027,\n \u0027chflags\u0027,\n \u0027chmod\u0027,\n \u0027chown\u0027,\n \u0027chroot\u0027,\n \u0027close\u0027,\n \u0027closerange\u0027,\n \u0027confstr\u0027,\n \u0027confstr_names\u0027,\n \u0027cpu_count\u0027,\n \u0027ctermid\u0027,\n \u0027curdir\u0027,\n \u0027defpath\u0027,\n \u0027device_encoding\u0027,\n \u0027devnull\u0027,\n \u0027dup\u0027,\n \u0027dup2\u0027,\n \u0027environ\u0027,\n \u0027environb\u0027,\n \u0027errno\u0027,\n \u0027error\u0027,\n \u0027execl\u0027,\n \u0027execle\u0027,\n \u0027execlp\u0027,\n \u0027execlpe\u0027,\n \u0027execv\u0027,\n \u0027execve\u0027,\n \u0027execvp\u0027,\n \u0027execvpe\u0027,\n \u0027extsep\u0027,\n \u0027fchdir\u0027,\n \u0027fchmod\u0027,\n \u0027fchown\u0027,\n \u0027fdopen\u0027,\n \u0027fork\u0027,\n \u0027forkpty\u0027,\n \u0027fpathconf\u0027,\n \u0027fsdecode\u0027,\n \u0027fsencode\u0027,\n \u0027fspath\u0027,\n \u0027fstat\u0027,\n \u0027fstatvfs\u0027,\n \u0027fsync\u0027,\n \u0027ftruncate\u0027,\n \u0027get_blocking\u0027,\n \u0027get_exec_path\u0027,\n \u0027get_inheritable\u0027,\n \u0027get_terminal_size\u0027,\n \u0027getcwd\u0027,\n \u0027getcwdb\u0027,\n \u0027getegid\u0027,\n \u0027getenv\u0027,\n \u0027getenvb\u0027,\n \u0027geteuid\u0027,\n \u0027getgid\u0027,\n \u0027getgrouplist\u0027,\n \u0027getgroups\u0027,\n \u0027getloadavg\u0027,\n \u0027getlogin\u0027,\n \u0027getpgid\u0027,\n \u0027getpgrp\u0027,\n \u0027getpid\u0027,\n \u0027getppid\u0027,\n \u0027getpriority\u0027,\n \u0027getsid\u0027,\n \u0027getuid\u0027,\n \u0027initgroups\u0027,\n \u0027isatty\u0027,\n \u0027kill\u0027,\n \u0027killpg\u0027,\n \u0027lchflags\u0027,\n \u0027lchmod\u0027,\n \u0027lchown\u0027,\n \u0027linesep\u0027,\n \u0027link\u0027,\n \u0027listdir\u0027,\n \u0027lockf\u0027,\n \u0027lseek\u0027,\n \u0027lstat\u0027,\n \u0027major\u0027,\n \u0027makedev\u0027,\n \u0027makedirs\u0027,\n \u0027minor\u0027,\n \u0027mkdir\u0027,\n \u0027mkfifo\u0027,\n \u0027mknod\u0027,\n \u0027name\u0027,\n \u0027nice\u0027,\n \u0027open\u0027,\n \u0027openpty\u0027,\n \u0027pardir\u0027,\n \u0027path\u0027,\n \u0027pathconf\u0027,\n \u0027pathconf_names\u0027,\n \u0027pathsep\u0027,\n \u0027pipe\u0027,\n \u0027popen\u0027,\n \u0027pread\u0027,\n \u0027putenv\u0027,\n \u0027pwrite\u0027,\n \u0027read\u0027,\n \u0027readlink\u0027,\n \u0027readv\u0027,\n \u0027remove\u0027,\n \u0027removedirs\u0027,\n \u0027rename\u0027,\n \u0027renames\u0027,\n \u0027replace\u0027,\n \u0027rmdir\u0027,\n \u0027scandir\u0027,\n \u0027sched_get_priority_max\u0027,\n \u0027sched_get_priority_min\u0027,\n \u0027sched_yield\u0027,\n \u0027sendfile\u0027,\n \u0027sep\u0027,\n \u0027set_blocking\u0027,\n \u0027set_inheritable\u0027,\n \u0027setegid\u0027,\n \u0027seteuid\u0027,\n \u0027setgid\u0027,\n \u0027setgroups\u0027,\n \u0027setpgid\u0027,\n \u0027setpgrp\u0027,\n \u0027setpriority\u0027,\n \u0027setregid\u0027,\n \u0027setreuid\u0027,\n \u0027setsid\u0027,\n \u0027setuid\u0027,\n \u0027spawnl\u0027,\n \u0027spawnle\u0027,\n \u0027spawnlp\u0027,\n \u0027spawnlpe\u0027,\n \u0027spawnv\u0027,\n \u0027spawnve\u0027,\n \u0027spawnvp\u0027,\n \u0027spawnvpe\u0027,\n \u0027st\u0027,\n \u0027stat\u0027,\n \u0027stat_float_times\u0027,\n \u0027stat_result\u0027,\n \u0027statvfs\u0027,\n \u0027statvfs_result\u0027,\n \u0027strerror\u0027,\n \u0027supports_bytes_environ\u0027,\n \u0027supports_dir_fd\u0027,\n \u0027supports_effective_ids\u0027,\n \u0027supports_fd\u0027,\n \u0027supports_follow_symlinks\u0027,\n \u0027symlink\u0027,\n \u0027sync\u0027,\n \u0027sys\u0027,\n \u0027sysconf\u0027,\n \u0027sysconf_names\u0027,\n \u0027system\u0027,\n \u0027tcgetpgrp\u0027,\n \u0027tcsetpgrp\u0027,\n \u0027terminal_size\u0027,\n \u0027times\u0027,\n \u0027times_result\u0027,\n \u0027truncate\u0027,\n \u0027ttyname\u0027,\n \u0027umask\u0027,\n \u0027uname\u0027,\n \u0027uname_result\u0027,\n \u0027unlink\u0027,\n \u0027unsetenv\u0027,\n \u0027urandom\u0027,\n \u0027utime\u0027,\n \u0027wait\u0027,\n \u0027wait3\u0027,\n \u0027wait4\u0027,\n \u0027waitpid\u0027,\n \u0027walk\u0027,\n \u0027write\u0027,\n \u0027writev\u0027]"
          },
          "metadata": {},
          "output_type": "execute_result",
          "execution_count": 28
        }
      ],
      "source": "import os\n# show all available functions in os\ndir(os)\n"
    },
    {
      "cell_type": "code",
      "execution_count": 29,
      "outputs": [
        {
          "name": "stdout",
          "text": [
            "/Users/davidxbuck/Documents/CodeRepositories/MachineLearning\n/Users/davidxbuck/Documents/CodeRepositories/MachineLearning/output\n"
          ],
          "output_type": "stream"
        }
      ],
      "source": "# \n# current working directory\nprint(os.getcwd())\n# change directory\nos.chdir(\u0027/Users/davidxbuck/Documents/CodeRepositories/MachineLearning/output\u0027)\nprint(os.getcwd())\n",
      "metadata": {
        "pycharm": {
          "metadata": false,
          "name": "#%%\n",
          "is_executing": false
        }
      }
    },
    {
      "cell_type": "code",
      "execution_count": 6,
      "outputs": [
        {
          "traceback": [
            "\u001b[0;31m---------------------------------------------------------------------------\u001b[0m",
            "\u001b[0;31mFileExistsError\u001b[0m                           Traceback (most recent call last)",
            "\u001b[0;32m\u003cipython-input-6-9677fe61b8a1\u003e\u001b[0m in \u001b[0;36m\u003cmodule\u003e\u001b[0;34m\u001b[0m\n\u001b[1;32m      1\u001b[0m \u001b[0mos\u001b[0m\u001b[0;34m.\u001b[0m\u001b[0mchdir\u001b[0m\u001b[0;34m(\u001b[0m\u001b[0;34m\u0027/Users/davidxbuck/Documents/CodeRepositories/MachineLearning/output\u0027\u001b[0m\u001b[0;34m)\u001b[0m\u001b[0;34m\u001b[0m\u001b[0;34m\u001b[0m\u001b[0m\n\u001b[0;32m----\u003e 2\u001b[0;31m \u001b[0mos\u001b[0m\u001b[0;34m.\u001b[0m\u001b[0mmkdir\u001b[0m\u001b[0;34m(\u001b[0m\u001b[0;34m\u0027os-demo/sub-dir1\u0027\u001b[0m\u001b[0;34m)\u001b[0m\u001b[0;34m\u001b[0m\u001b[0;34m\u001b[0m\u001b[0m\n\u001b[0m\u001b[1;32m      3\u001b[0m \u001b[0;31m# fails because os-demo doesn\u0027t exist\u001b[0m\u001b[0;34m\u001b[0m\u001b[0;34m\u001b[0m\u001b[0;34m\u001b[0m\u001b[0m\n\u001b[1;32m      4\u001b[0m \u001b[0;34m\u001b[0m\u001b[0m\n",
            "\u001b[0;31mFileExistsError\u001b[0m: [Errno 17] File exists: \u0027os-demo/sub-dir1\u0027"
          ],
          "ename": "FileExistsError",
          "evalue": "[Errno 17] File exists: \u0027os-demo/sub-dir1\u0027",
          "output_type": "error"
        }
      ],
      "source": "os.chdir(\u0027/Users/davidxbuck/Documents/CodeRepositories/MachineLearning/output\u0027)\n# make new directory\nos.mkdir(\u0027os-demo/sub-dir1\u0027)\n# fails because os-demo doesn\u0027t exist\n",
      "metadata": {
        "pycharm": {
          "metadata": false,
          "name": "#%%\n",
          "is_executing": false
        }
      }
    },
    {
      "cell_type": "code",
      "execution_count": 7,
      "outputs": [
        {
          "traceback": [
            "\u001b[0;31m---------------------------------------------------------------------------\u001b[0m",
            "\u001b[0;31mFileExistsError\u001b[0m                           Traceback (most recent call last)",
            "\u001b[0;32m\u003cipython-input-7-7caf7470d72e\u003e\u001b[0m in \u001b[0;36m\u003cmodule\u003e\u001b[0;34m\u001b[0m\n\u001b[1;32m      1\u001b[0m \u001b[0mos\u001b[0m\u001b[0;34m.\u001b[0m\u001b[0mchdir\u001b[0m\u001b[0;34m(\u001b[0m\u001b[0;34m\u0027/Users/davidxbuck/Documents/CodeRepositories/MachineLearning/output\u0027\u001b[0m\u001b[0;34m)\u001b[0m\u001b[0;34m\u001b[0m\u001b[0;34m\u001b[0m\u001b[0m\n\u001b[0;32m----\u003e 2\u001b[0;31m \u001b[0mos\u001b[0m\u001b[0;34m.\u001b[0m\u001b[0mmakedirs\u001b[0m\u001b[0;34m(\u001b[0m\u001b[0;34m\u0027os-demo/sub-dir1\u0027\u001b[0m\u001b[0;34m)\u001b[0m\u001b[0;34m\u001b[0m\u001b[0;34m\u001b[0m\u001b[0m\n\u001b[0m\u001b[1;32m      3\u001b[0m \u001b[0;31m# will create parent folders if they don\u0027t exist\u001b[0m\u001b[0;34m\u001b[0m\u001b[0;34m\u001b[0m\u001b[0;34m\u001b[0m\u001b[0m\n\u001b[1;32m      4\u001b[0m \u001b[0mprint\u001b[0m\u001b[0;34m(\u001b[0m\u001b[0mos\u001b[0m\u001b[0;34m.\u001b[0m\u001b[0mlistdir\u001b[0m\u001b[0;34m(\u001b[0m\u001b[0;34m)\u001b[0m\u001b[0;34m)\u001b[0m\u001b[0;34m\u001b[0m\u001b[0;34m\u001b[0m\u001b[0m\n\u001b[1;32m      5\u001b[0m \u001b[0;34m\u001b[0m\u001b[0m\n",
            "\u001b[0;32m~/anaconda3/envs/MachineLearning2/lib/python3.6/os.py\u001b[0m in \u001b[0;36mmakedirs\u001b[0;34m(name, mode, exist_ok)\u001b[0m\n\u001b[1;32m    218\u001b[0m             \u001b[0;32mreturn\u001b[0m\u001b[0;34m\u001b[0m\u001b[0;34m\u001b[0m\u001b[0m\n\u001b[1;32m    219\u001b[0m     \u001b[0;32mtry\u001b[0m\u001b[0;34m:\u001b[0m\u001b[0;34m\u001b[0m\u001b[0;34m\u001b[0m\u001b[0m\n\u001b[0;32m--\u003e 220\u001b[0;31m         \u001b[0mmkdir\u001b[0m\u001b[0;34m(\u001b[0m\u001b[0mname\u001b[0m\u001b[0;34m,\u001b[0m \u001b[0mmode\u001b[0m\u001b[0;34m)\u001b[0m\u001b[0;34m\u001b[0m\u001b[0;34m\u001b[0m\u001b[0m\n\u001b[0m\u001b[1;32m    221\u001b[0m     \u001b[0;32mexcept\u001b[0m \u001b[0mOSError\u001b[0m\u001b[0;34m:\u001b[0m\u001b[0;34m\u001b[0m\u001b[0;34m\u001b[0m\u001b[0m\n\u001b[1;32m    222\u001b[0m         \u001b[0;31m# Cannot rely on checking for EEXIST, since the operating system\u001b[0m\u001b[0;34m\u001b[0m\u001b[0;34m\u001b[0m\u001b[0;34m\u001b[0m\u001b[0m\n",
            "\u001b[0;31mFileExistsError\u001b[0m: [Errno 17] File exists: \u0027os-demo/sub-dir1\u0027"
          ],
          "ename": "FileExistsError",
          "evalue": "[Errno 17] File exists: \u0027os-demo/sub-dir1\u0027",
          "output_type": "error"
        }
      ],
      "source": "os.chdir(\u0027/Users/davidxbuck/Documents/CodeRepositories/MachineLearning/output\u0027)\n# make new directory and any parent directories if they don\u0027t exist\nos.makedirs(\u0027os-demo/sub-dir1\u0027)\nprint(os.listdir())\n",
      "metadata": {
        "pycharm": {
          "metadata": false,
          "name": "#%%\n",
          "is_executing": false
        }
      }
    },
    {
      "cell_type": "code",
      "execution_count": 8,
      "outputs": [],
      "source": "# remove directory\nos.chdir(\u0027/Users/davidxbuck/Documents/CodeRepositories/MachineLearning/output\u0027)\nos.rmdir(\u0027os-demo/sub-dir1\u0027)\n",
      "metadata": {
        "pycharm": {
          "metadata": false,
          "name": "#%%\n",
          "is_executing": false
        }
      }
    },
    {
      "cell_type": "code",
      "execution_count": 9,
      "outputs": [
        {
          "traceback": [
            "\u001b[0;31m---------------------------------------------------------------------------\u001b[0m",
            "\u001b[0;31mFileNotFoundError\u001b[0m                         Traceback (most recent call last)",
            "\u001b[0;32m\u003cipython-input-9-977e67a26da1\u003e\u001b[0m in \u001b[0;36m\u003cmodule\u003e\u001b[0;34m\u001b[0m\n\u001b[1;32m      1\u001b[0m \u001b[0mos\u001b[0m\u001b[0;34m.\u001b[0m\u001b[0mchdir\u001b[0m\u001b[0;34m(\u001b[0m\u001b[0;34m\u0027/Users/davidxbuck/Documents/CodeRepositories/MachineLearning/output\u0027\u001b[0m\u001b[0;34m)\u001b[0m\u001b[0;34m\u001b[0m\u001b[0;34m\u001b[0m\u001b[0m\n\u001b[0;32m----\u003e 2\u001b[0;31m \u001b[0mos\u001b[0m\u001b[0;34m.\u001b[0m\u001b[0mremovedirs\u001b[0m\u001b[0;34m(\u001b[0m\u001b[0;34m\u0027os-demo/sub-dir1\u0027\u001b[0m\u001b[0;34m)\u001b[0m\u001b[0;34m\u001b[0m\u001b[0;34m\u001b[0m\u001b[0m\n\u001b[0m\u001b[1;32m      3\u001b[0m \u001b[0;31m# fails because can\u0027t delete the parent\u001b[0m\u001b[0;34m\u001b[0m\u001b[0;34m\u001b[0m\u001b[0;34m\u001b[0m\u001b[0m\n\u001b[1;32m      4\u001b[0m \u001b[0;34m\u001b[0m\u001b[0m\n",
            "\u001b[0;32m~/anaconda3/envs/MachineLearning2/lib/python3.6/os.py\u001b[0m in \u001b[0;36mremovedirs\u001b[0;34m(name)\u001b[0m\n\u001b[1;32m    236\u001b[0m \u001b[0;34m\u001b[0m\u001b[0m\n\u001b[1;32m    237\u001b[0m     \"\"\"\n\u001b[0;32m--\u003e 238\u001b[0;31m     \u001b[0mrmdir\u001b[0m\u001b[0;34m(\u001b[0m\u001b[0mname\u001b[0m\u001b[0;34m)\u001b[0m\u001b[0;34m\u001b[0m\u001b[0;34m\u001b[0m\u001b[0m\n\u001b[0m\u001b[1;32m    239\u001b[0m     \u001b[0mhead\u001b[0m\u001b[0;34m,\u001b[0m \u001b[0mtail\u001b[0m \u001b[0;34m\u003d\u001b[0m \u001b[0mpath\u001b[0m\u001b[0;34m.\u001b[0m\u001b[0msplit\u001b[0m\u001b[0;34m(\u001b[0m\u001b[0mname\u001b[0m\u001b[0;34m)\u001b[0m\u001b[0;34m\u001b[0m\u001b[0;34m\u001b[0m\u001b[0m\n\u001b[1;32m    240\u001b[0m     \u001b[0;32mif\u001b[0m \u001b[0;32mnot\u001b[0m \u001b[0mtail\u001b[0m\u001b[0;34m:\u001b[0m\u001b[0;34m\u001b[0m\u001b[0;34m\u001b[0m\u001b[0m\n",
            "\u001b[0;31mFileNotFoundError\u001b[0m: [Errno 2] No such file or directory: \u0027os-demo/sub-dir1\u0027"
          ],
          "ename": "FileNotFoundError",
          "evalue": "[Errno 2] No such file or directory: \u0027os-demo/sub-dir1\u0027",
          "output_type": "error"
        }
      ],
      "source": "# remove directory and any parents, as long as they are empty\nos.chdir(\u0027/Users/davidxbuck/Documents/CodeRepositories/MachineLearning/output\u0027)\nos.removedirs(\u0027os-demo/sub-dir1\u0027)\n# fails because can\u0027t delete the parent\n",
      "metadata": {
        "pycharm": {
          "metadata": false,
          "name": "#%%\n",
          "is_executing": false
        }
      }
    },
    {
      "cell_type": "code",
      "execution_count": 10,
      "outputs": [
        {
          "name": "stdout",
          "text": [
            "[\u0027demo.txt\u0027, \u0027.DS_Store\u0027, \u0027xlim_and_ylim.png\u0027, \u0027test_copy.txt\u0027, \u0027os-demo\u0027, \u0027redpanda_copy.jpg\u0027]\n[\u0027.DS_Store\u0027, \u0027test2.txt\u0027, \u0027xlim_and_ylim.png\u0027, \u0027test_copy.txt\u0027, \u0027os-demo\u0027, \u0027redpanda_copy.jpg\u0027]\n"
          ],
          "output_type": "stream"
        }
      ],
      "source": "# rename file\nos.chdir(\u0027/Users/davidxbuck/Documents/CodeRepositories/MachineLearning/output\u0027)\nos.rename(\u0027test2.txt\u0027, \u0027demo.txt\u0027)\nprint(os.listdir())\n\nos.rename(\u0027demo.txt\u0027, \u0027test2.txt\u0027)\nprint(os.listdir())\n",
      "metadata": {
        "pycharm": {
          "metadata": false,
          "name": "#%%\n",
          "is_executing": false
        }
      }
    },
    {
      "cell_type": "code",
      "execution_count": 11,
      "outputs": [
        {
          "name": "stdout",
          "text": [
            "os.stat_result(st_mode\u003d33188, st_ino\u003d8702527258, st_dev\u003d16777220, st_nlink\u003d1, st_uid\u003d501, st_gid\u003d20, st_size\u003d4, st_atime\u003d1553993956, st_mtime\u003d1553952006, st_ctime\u003d1553993954)\n4\n1553952006.4399624\n2019-03-30 13:20:06.439962\n"
          ],
          "output_type": "stream"
        }
      ],
      "source": "# file stats\nos.chdir(\u0027/Users/davidxbuck/Documents/CodeRepositories/MachineLearning/output\u0027)\n\nprint(os.stat(\u0027test2.txt\u0027))\nprint(os.stat(\u0027test2.txt\u0027).st_size)  # size (bytes)\nprint(os.stat(\u0027test2.txt\u0027).st_mtime) # modification time\n\nfrom datetime import datetime\nmod_time \u003d os.stat(\u0027test2.txt\u0027).st_mtime\nprint(datetime.fromtimestamp(mod_time))\n",
      "metadata": {
        "pycharm": {
          "metadata": false,
          "name": "#%%\n",
          "is_executing": false
        }
      }
    },
    {
      "cell_type": "code",
      "execution_count": 12,
      "outputs": [
        {
          "name": "stdout",
          "text": [
            "Current Path: /Users/davidxbuck/Documents/CodeRepositories/MachineLearning/\nDirectories: [\u0027input\u0027, \u0027output\u0027, \u0027.idea\u0027, \u0027src\u0027]\nFiles [\u0027.DS_Store\u0027, \u0027test_copy.txt\u0027]\n\nCurrent Path: /Users/davidxbuck/Documents/CodeRepositories/MachineLearning/input\nDirectories: []\nFiles [\u0027redpanda.jpg\u0027, \u0027test.txt\u0027]\n\nCurrent Path: /Users/davidxbuck/Documents/CodeRepositories/MachineLearning/output\nDirectories: [\u0027os-demo\u0027]\nFiles [\u0027.DS_Store\u0027, \u0027test2.txt\u0027, \u0027xlim_and_ylim.png\u0027, \u0027test_copy.txt\u0027, \u0027redpanda_copy.jpg\u0027]\n\nCurrent Path: /Users/davidxbuck/Documents/CodeRepositories/MachineLearning/output/os-demo\nDirectories: []\nFiles [\u0027.DS_Store\u0027]\n\nCurrent Path: /Users/davidxbuck/Documents/CodeRepositories/MachineLearning/.idea\nDirectories: []\nFiles [\u0027webResources.xml\u0027, \u0027MachineLearning.iml\u0027, \u0027encodings.xml\u0027, \u0027other.xml\u0027, \u0027workspace.xml\u0027, \u0027modules.xml\u0027, \u0027misc.xml\u0027]\n\nCurrent Path: /Users/davidxbuck/Documents/CodeRepositories/MachineLearning/src\nDirectories: []\nFiles [\u0027__init__.py\u0027, \u0027OS module.ipynb\u0027, \u0027File handling.ipynb\u0027, \u0027Introduction to Data Visualisation.ipynb\u0027, \u0027Scikit-learn intro.ipynb\u0027, \u0027Scikit-learn intro.py\u0027]\n\n"
          ],
          "output_type": "stream"
        }
      ],
      "source": "os.chdir(\u0027/Users/davidxbuck/Documents/CodeRepositories/MachineLearning/output\u0027)\n\n# Generator that yields a tuple of three values\n# - The directory path\n# - The directories within that path\n# - Files within that path\n\n# walk the directory\nfor dirpath, dirnames, filenames in os.walk(\u0027/Users/davidxbuck/Documents/CodeRepositories/MachineLearning/\u0027):\n    print(\u0027Current Path:\u0027, dirpath)\n    print(\u0027Directories:\u0027, dirnames)\n    print(\u0027Files\u0027, filenames)\n    print()\n",
      "metadata": {
        "pycharm": {
          "metadata": false,
          "name": "#%%\n",
          "is_executing": false
        }
      }
    },
    {
      "cell_type": "code",
      "execution_count": 13,
      "outputs": [
        {
          "name": "stdout",
          "text": [
            "/Users/davidxbuck\n/Users/davidxbuck/test.txt\n"
          ],
          "output_type": "stream"
        }
      ],
      "source": "os.chdir(\u0027/Users/davidxbuck/Documents/CodeRepositories/MachineLearning/output\u0027)\n\nprint(os.environ.get(\u0027HOME\u0027))\n\n# build path with correct syntax\nfile_path \u003d os.path.join(os.environ.get(\u0027HOME\u0027), \u0027test.txt\u0027)\nprint(file_path)\n",
      "metadata": {
        "pycharm": {
          "metadata": false,
          "name": "#%%\n",
          "is_executing": false
        }
      }
    },
    {
      "cell_type": "code",
      "execution_count": 23,
      "outputs": [
        {
          "name": "stdout",
          "text": [
            "test.txt\noutput\n(\u0027output\u0027, \u0027test.txt\u0027)\nFalse\nTrue\nTrue\nFalse\nFalse\nTrue\n(\u0027output/test2\u0027, \u0027.txt\u0027)\n"
          ],
          "output_type": "stream"
        }
      ],
      "source": "os.chdir(\u0027/Users/davidxbuck/Documents/CodeRepositories/MachineLearning\u0027)\n\n# print(os.environ.get(\u0027HOME\u0027))\n\n\nprint(os.path.basename(\u0027output/test.txt\u0027)) # return file name\nprint(os.path.dirname(\u0027output/test.txt\u0027))  # return directory name\nprint(os.path.split(\u0027output/test.txt\u0027))    # returns both file and dir name\nprint(os.path.exists(\u0027output/test.txt\u0027))   # does it exist\nprint(os.path.exists(\u0027output/test2.txt\u0027)) \nprint(os.path.isdir(\u0027output\u0027))             # is it a file\nprint(os.path.isfile(\u0027output\u0027))            # is it a directory \nprint(os.path.isdir(\u0027output/test2.txt\u0027))   \nprint(os.path.isfile(\u0027output/test2.txt\u0027)) \nprint(os.path.splitext(\u0027output/test2.txt\u0027))  # splits off extension\n",
      "metadata": {
        "pycharm": {
          "metadata": false,
          "name": "#%%\n",
          "is_executing": false
        }
      }
    },
    {
      "cell_type": "code",
      "execution_count": 27,
      "outputs": [
        {
          "data": {
            "text/plain": "[\u0027__all__\u0027,\n \u0027__builtins__\u0027,\n \u0027__cached__\u0027,\n \u0027__doc__\u0027,\n \u0027__file__\u0027,\n \u0027__loader__\u0027,\n \u0027__name__\u0027,\n \u0027__package__\u0027,\n \u0027__spec__\u0027,\n \u0027_get_sep\u0027,\n \u0027_joinrealpath\u0027,\n \u0027_varprog\u0027,\n \u0027_varprogb\u0027,\n \u0027abspath\u0027,\n \u0027altsep\u0027,\n \u0027basename\u0027,\n \u0027commonpath\u0027,\n \u0027commonprefix\u0027,\n \u0027curdir\u0027,\n \u0027defpath\u0027,\n \u0027devnull\u0027,\n \u0027dirname\u0027,\n \u0027exists\u0027,\n \u0027expanduser\u0027,\n \u0027expandvars\u0027,\n \u0027extsep\u0027,\n \u0027genericpath\u0027,\n \u0027getatime\u0027,\n \u0027getctime\u0027,\n \u0027getmtime\u0027,\n \u0027getsize\u0027,\n \u0027isabs\u0027,\n \u0027isdir\u0027,\n \u0027isfile\u0027,\n \u0027islink\u0027,\n \u0027ismount\u0027,\n \u0027join\u0027,\n \u0027lexists\u0027,\n \u0027normcase\u0027,\n \u0027normpath\u0027,\n \u0027os\u0027,\n \u0027pardir\u0027,\n \u0027pathsep\u0027,\n \u0027realpath\u0027,\n \u0027relpath\u0027,\n \u0027samefile\u0027,\n \u0027sameopenfile\u0027,\n \u0027samestat\u0027,\n \u0027sep\u0027,\n \u0027split\u0027,\n \u0027splitdrive\u0027,\n \u0027splitext\u0027,\n \u0027stat\u0027,\n \u0027supports_unicode_filenames\u0027,\n \u0027sys\u0027]"
          },
          "metadata": {},
          "output_type": "execute_result",
          "execution_count": 27
        }
      ],
      "source": "# list of functions in os.path\ndir(os.path)\n\n\n\n",
      "metadata": {
        "pycharm": {
          "metadata": false,
          "name": "#%%\n",
          "is_executing": false
        }
      }
    }
  ],
  "metadata": {
    "language_info": {
      "codemirror_mode": {
        "name": "ipython",
        "version": 2
      },
      "file_extension": ".py",
      "mimetype": "text/x-python",
      "name": "python",
      "nbconvert_exporter": "python",
      "pygments_lexer": "ipython2",
      "version": "2.7.6"
    },
    "kernelspec": {
      "name": "python3",
      "language": "python",
      "display_name": "Python 3"
    }
  },
  "nbformat": 4,
  "nbformat_minor": 0
}